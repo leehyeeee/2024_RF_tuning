{
 "cells": [
  {
   "cell_type": "code",
   "execution_count": 2,
   "metadata": {},
   "outputs": [],
   "source": [
    "import pandas as pd\n",
    "train = pd.read_csv('./data/train.csv')\n",
    "submission = pd.read_csv('./data/sample_submission.csv')"
   ]
  },
  {
   "cell_type": "markdown",
   "metadata": {},
   "source": [
    "**train.csv**  \n",
    "데이터 전처리 과정이 끝난 학습 데이터 (추가 데이터 전처리 과정을 진행하지 않습니다.)\n",
    "- RF 모델 하이퍼파라미터를 제출 시, 해당 데이터로 자동적으로 학습됩니다.\n",
    "- person_id: 유저별 고유 아이디\n",
    "- Sex: 성별\n",
    "- past_login_total: 과거(5월 8일 이전)에 로그인한 총 횟수\n",
    "- past_1_month_login: 과거 1달간 로그인한 총 횟수\n",
    "- past_1_week_login: 과거 1주간 로그인한 총 횟수\n",
    "- sub_size: 과거에 데이콘 대회에서의 총 제출 수\n",
    "- email_type: 가입한 이메일 종류\n",
    "- phone_rat: 폰으로 접속한 비율\n",
    "- apple_rat: 애플 기기로 접속한 비율\n",
    "- login: 로그인 여부 "
   ]
  },
  {
   "cell_type": "markdown",
   "metadata": {},
   "source": [
    "**sample_submission.csv** \n",
    "RF 모델을 학습시킬 모델 하이퍼파라미터 목록\n",
    "- n_estimators:\n",
    "\n",
    "기본값: 10\n",
    "\n",
    "범위: 10 ~ 1000 사이의 양의 정수. 일반적으로 값이 클수록 모델 성능이 좋아지지만, 계산 비용과 시간도 증가합니다.\n",
    "\n",
    "- criterion:\n",
    "\n",
    "기본값: 'gini'\n",
    "\n",
    "옵션: 'gini', 'entropy'. 'gini'는 진니 불순도를, 'entropy'는 정보 이득을 기준으로 합니다.\n",
    "- max_depth:\n",
    "\n",
    "기본값: None\n",
    "\n",
    "범위: None 또는 양의 정수. None으로 설정하면 노드가 모든 리프가 순수해질 때까지 확장됩니다. 양의 정수를 설정하면 트리의 최대 깊이를 제한합니다.\n",
    "- min_samples_split:\n",
    "\n",
    "기본값: 2\n",
    "\n",
    "범위: 2 이상의 정수 또는 0과 1 사이의 실수 (비율을 나타냄, (0, 1] ). 내부 노드를 분할하기 위해 필요한 최소 샘플 수를 지정합니다.\n",
    "- min_samples_leaf:\n",
    "\n",
    "기본값: 1\n",
    "\n",
    "범위: 1 이상의 정수 또는 0과 0.5 사이의 실수 (비율을 나타냄, (0, 0.5] ). 리프 노드가 가져야 하는 최소 샘플 수를 지정합니다.\n",
    "- min_weight_fraction_leaf:\n",
    "\n",
    "기본값: 0.0\n",
    "\n",
    "범위: 0.0에서 0.5 사이의 실수. 리프 노드에 있어야 하는 샘플의 최소 가중치 비율을 지정합니다.\n",
    "- max_features:\n",
    "\n",
    "기본값: 'auto'\n",
    "\n",
    "옵션: 'auto', 'sqrt', 'log2', None 또는 양의 정수/실수. 최적의 분할을 찾기 위해 고려할 특성의 수 또는 비율을 지정합니다. 'auto'는 모든 특성을 사용함을 의미하며, 'sqrt'와 'log2'는 각각 특성의 제곱근과 로그2를 사용합니다. None은 'auto'와 동일하게 모든 특성을 의미합니다.\n",
    "- max_leaf_nodes:\n",
    "\n",
    "기본값: None\n",
    "\n",
    "범위: None 또는 양의 정수. 리프 노드의 최대 수를 제한합니다. None은 무제한을 의미합니다.\n",
    "- min_impurity_decrease:\n",
    "\n",
    "기본값: 0.0\n",
    "\n",
    "범위: 0.0 이상의 실수. 노드를 분할할 때 감소해야 하는 불순도의 최소량을 지정합니다.\n",
    "- bootstrap:\n",
    "\n",
    "기본값: True\n",
    "\n",
    "옵션: True, False. True는 부트스트랩 샘플을 사용하여 개별 트리를 학습시킵니다. False는 전체 데이터셋을 사용하여 각 트리를 학습시킵니다."
   ]
  },
  {
   "cell_type": "code",
   "execution_count": 3,
   "metadata": {},
   "outputs": [
    {
     "data": {
      "text/html": [
       "<div>\n",
       "<style scoped>\n",
       "    .dataframe tbody tr th:only-of-type {\n",
       "        vertical-align: middle;\n",
       "    }\n",
       "\n",
       "    .dataframe tbody tr th {\n",
       "        vertical-align: top;\n",
       "    }\n",
       "\n",
       "    .dataframe thead th {\n",
       "        text-align: right;\n",
       "    }\n",
       "</style>\n",
       "<table border=\"1\" class=\"dataframe\">\n",
       "  <thead>\n",
       "    <tr style=\"text-align: right;\">\n",
       "      <th></th>\n",
       "      <th>person_id</th>\n",
       "      <th>Sex</th>\n",
       "      <th>past_login_total</th>\n",
       "      <th>past_1_month_login</th>\n",
       "      <th>past_1_week_login</th>\n",
       "      <th>sub_size</th>\n",
       "      <th>email_type</th>\n",
       "      <th>phone_rat</th>\n",
       "      <th>apple_rat</th>\n",
       "      <th>login</th>\n",
       "    </tr>\n",
       "  </thead>\n",
       "  <tbody>\n",
       "    <tr>\n",
       "      <th>0</th>\n",
       "      <td>0</td>\n",
       "      <td>0</td>\n",
       "      <td>3.0</td>\n",
       "      <td>1.0</td>\n",
       "      <td>1.0</td>\n",
       "      <td>0.0</td>\n",
       "      <td>0</td>\n",
       "      <td>0.000000</td>\n",
       "      <td>0.000000</td>\n",
       "      <td>1</td>\n",
       "    </tr>\n",
       "    <tr>\n",
       "      <th>1</th>\n",
       "      <td>1</td>\n",
       "      <td>1</td>\n",
       "      <td>111.0</td>\n",
       "      <td>26.0</td>\n",
       "      <td>7.0</td>\n",
       "      <td>2.0</td>\n",
       "      <td>0</td>\n",
       "      <td>0.072072</td>\n",
       "      <td>0.000000</td>\n",
       "      <td>1</td>\n",
       "    </tr>\n",
       "    <tr>\n",
       "      <th>2</th>\n",
       "      <td>3</td>\n",
       "      <td>1</td>\n",
       "      <td>13.0</td>\n",
       "      <td>13.0</td>\n",
       "      <td>11.0</td>\n",
       "      <td>7.0</td>\n",
       "      <td>0</td>\n",
       "      <td>0.076923</td>\n",
       "      <td>1.000000</td>\n",
       "      <td>1</td>\n",
       "    </tr>\n",
       "    <tr>\n",
       "      <th>3</th>\n",
       "      <td>4</td>\n",
       "      <td>1</td>\n",
       "      <td>28.0</td>\n",
       "      <td>12.0</td>\n",
       "      <td>5.0</td>\n",
       "      <td>0.0</td>\n",
       "      <td>0</td>\n",
       "      <td>0.071429</td>\n",
       "      <td>0.071429</td>\n",
       "      <td>1</td>\n",
       "    </tr>\n",
       "    <tr>\n",
       "      <th>4</th>\n",
       "      <td>5</td>\n",
       "      <td>1</td>\n",
       "      <td>4.0</td>\n",
       "      <td>4.0</td>\n",
       "      <td>4.0</td>\n",
       "      <td>0.0</td>\n",
       "      <td>2</td>\n",
       "      <td>0.000000</td>\n",
       "      <td>0.000000</td>\n",
       "      <td>1</td>\n",
       "    </tr>\n",
       "  </tbody>\n",
       "</table>\n",
       "</div>"
      ],
      "text/plain": [
       "   person_id  Sex  past_login_total  past_1_month_login  past_1_week_login  \\\n",
       "0          0    0               3.0                 1.0                1.0   \n",
       "1          1    1             111.0                26.0                7.0   \n",
       "2          3    1              13.0                13.0               11.0   \n",
       "3          4    1              28.0                12.0                5.0   \n",
       "4          5    1               4.0                 4.0                4.0   \n",
       "\n",
       "   sub_size  email_type  phone_rat  apple_rat  login  \n",
       "0       0.0           0   0.000000   0.000000      1  \n",
       "1       2.0           0   0.072072   0.000000      1  \n",
       "2       7.0           0   0.076923   1.000000      1  \n",
       "3       0.0           0   0.071429   0.071429      1  \n",
       "4       0.0           2   0.000000   0.000000      1  "
      ]
     },
     "execution_count": 3,
     "metadata": {},
     "output_type": "execute_result"
    }
   ],
   "source": [
    "train.head()"
   ]
  },
  {
   "cell_type": "code",
   "execution_count": 5,
   "metadata": {},
   "outputs": [
    {
     "name": "stdout",
     "output_type": "stream",
     "text": [
      "<class 'pandas.core.frame.DataFrame'>\n",
      "RangeIndex: 1309 entries, 0 to 1308\n",
      "Data columns (total 10 columns):\n",
      " #   Column              Non-Null Count  Dtype  \n",
      "---  ------              --------------  -----  \n",
      " 0   person_id           1309 non-null   int64  \n",
      " 1   Sex                 1309 non-null   int64  \n",
      " 2   past_login_total    1309 non-null   float64\n",
      " 3   past_1_month_login  1309 non-null   float64\n",
      " 4   past_1_week_login   1309 non-null   float64\n",
      " 5   sub_size            1309 non-null   float64\n",
      " 6   email_type          1309 non-null   int64  \n",
      " 7   phone_rat           1309 non-null   float64\n",
      " 8   apple_rat           1309 non-null   float64\n",
      " 9   login               1309 non-null   int64  \n",
      "dtypes: float64(6), int64(4)\n",
      "memory usage: 102.4 KB\n"
     ]
    }
   ],
   "source": [
    "train.info()"
   ]
  },
  {
   "cell_type": "markdown",
   "metadata": {},
   "source": [
    "#### 컬럼별 특징\n",
    "- login : 타겟값, 불균형 심함 89:11\n",
    "- person_id : 고유값이므로 제거\n",
    "- sex : 54:46\n",
    "- past_login_total : 0~203,  43% 1 / 11% 2 / 10% 0 , 이상치 처리\n",
    "- past_1_month_login : 0~93, 85% 0, 이상치 처리\n",
    "- past_1_week_login : 0~23, 90% 0, 이상치 처리\n",
    "- sub_size : 0~358, 83% 0, 이상치 처리\n",
    "- email_type : 61% 0 / 21% 1 / 13% 2\n",
    "- phone_rat : 0~1, 76% 0\n",
    "- apple_rat : 0~1, 73% 0"
   ]
  },
  {
   "cell_type": "markdown",
   "metadata": {},
   "source": [
    "## 전처리"
   ]
  },
  {
   "cell_type": "markdown",
   "metadata": {},
   "source": [
    "### 이상치 처리"
   ]
  },
  {
   "cell_type": "code",
   "execution_count": null,
   "metadata": {},
   "outputs": [],
   "source": []
  },
  {
   "cell_type": "markdown",
   "metadata": {},
   "source": [
    "### 타겟값 불균형 해결"
   ]
  },
  {
   "cell_type": "code",
   "execution_count": null,
   "metadata": {},
   "outputs": [],
   "source": []
  },
  {
   "cell_type": "markdown",
   "metadata": {},
   "source": [
    "### 스케일링"
   ]
  },
  {
   "cell_type": "code",
   "execution_count": null,
   "metadata": {},
   "outputs": [],
   "source": []
  },
  {
   "cell_type": "code",
   "execution_count": null,
   "metadata": {},
   "outputs": [],
   "source": []
  }
 ],
 "metadata": {
  "kernelspec": {
   "display_name": "Python 3",
   "language": "python",
   "name": "python3"
  },
  "language_info": {
   "codemirror_mode": {
    "name": "ipython",
    "version": 3
   },
   "file_extension": ".py",
   "mimetype": "text/x-python",
   "name": "python",
   "nbconvert_exporter": "python",
   "pygments_lexer": "ipython3",
   "version": "3.10.11"
  }
 },
 "nbformat": 4,
 "nbformat_minor": 2
}
