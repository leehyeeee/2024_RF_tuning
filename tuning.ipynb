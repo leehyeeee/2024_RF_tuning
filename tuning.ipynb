{
 "cells": [
  {
   "cell_type": "markdown",
   "metadata": {},
   "source": [
    "## 모델 튜닝 챌린지 : RF 하이퍼파라미터 최적화 경진대회"
   ]
  },
  {
   "cell_type": "markdown",
   "metadata": {},
   "source": [
    "**train.csv**  \n",
    "데이터 전처리 과정이 끝난 학습 데이터 (추가 데이터 전처리 과정을 진행하지 않습니다.)\n",
    "- RF 모델 하이퍼파라미터를 제출 시, 해당 데이터로 자동적으로 학습됩니다.\n",
    "- person_id: 유저별 고유 아이디\n",
    "- Sex: 성별\n",
    "- past_login_total: 과거(5월 8일 이전)에 로그인한 총 횟수\n",
    "- past_1_month_login: 과거 1달간 로그인한 총 횟수\n",
    "- past_1_week_login: 과거 1주간 로그인한 총 횟수\n",
    "- sub_size: 과거에 데이콘 대회에서의 총 제출 수\n",
    "- email_type: 가입한 이메일 종류\n",
    "- phone_rat: 폰으로 접속한 비율\n",
    "- apple_rat: 애플 기기로 접속한 비율\n",
    "- login: 로그인 여부"
   ]
  },
  {
   "cell_type": "markdown",
   "metadata": {},
   "source": [
    "**sample_submission.csv** \n",
    "RF 모델을 학습시킬 모델 하이퍼파라미터 목록\n",
    "- n_estimators:\n",
    "\n",
    "기본값: 10\n",
    "\n",
    "범위: 10 ~ 1000 사이의 양의 정수. 일반적으로 값이 클수록 모델 성능이 좋아지지만, 계산 비용과 시간도 증가합니다.\n",
    "\n",
    "- criterion:\n",
    "\n",
    "기본값: 'gini'\n",
    "\n",
    "옵션: 'gini', 'entropy'. 'gini'는 진니 불순도를, 'entropy'는 정보 이득을 기준으로 합니다.\n",
    "- max_depth:\n",
    "\n",
    "기본값: None\n",
    "\n",
    "범위: None 또는 양의 정수. None으로 설정하면 노드가 모든 리프가 순수해질 때까지 확장됩니다. 양의 정수를 설정하면 트리의 최대 깊이를 제한합니다.\n",
    "- min_samples_split:\n",
    "\n",
    "기본값: 2\n",
    "\n",
    "범위: 2 이상의 정수 또는 0과 1 사이의 실수 (비율을 나타냄, (0, 1] ). 내부 노드를 분할하기 위해 필요한 최소 샘플 수를 지정합니다.\n",
    "- min_samples_leaf:\n",
    "\n",
    "기본값: 1\n",
    "\n",
    "범위: 1 이상의 정수 또는 0과 0.5 사이의 실수 (비율을 나타냄, (0, 0.5] ). 리프 노드가 가져야 하는 최소 샘플 수를 지정합니다.\n",
    "- min_weight_fraction_leaf:\n",
    "\n",
    "기본값: 0.0\n",
    "\n",
    "범위: 0.0에서 0.5 사이의 실수. 리프 노드에 있어야 하는 샘플의 최소 가중치 비율을 지정합니다.\n",
    "- max_features:\n",
    "\n",
    "기본값: 'auto'\n",
    "\n",
    "옵션: 'auto', 'sqrt', 'log2', None 또는 양의 정수/실수. 최적의 분할을 찾기 위해 고려할 특성의 수 또는 비율을 지정합니다. 'auto'는 모든 특성을 사용함을 의미하며, 'sqrt'와 'log2'는 각각 특성의 제곱근과 로그2를 사용합니다. None은 'auto'와 동일하게 모든 특성을 의미합니다.\n",
    "- max_leaf_nodes:\n",
    "\n",
    "기본값: None\n",
    "\n",
    "범위: None 또는 양의 정수. 리프 노드의 최대 수를 제한합니다. None은 무제한을 의미합니다.\n",
    "- min_impurity_decrease:\n",
    "\n",
    "기본값: 0.0\n",
    "\n",
    "범위: 0.0 이상의 실수. 노드를 분할할 때 감소해야 하는 불순도의 최소량을 지정합니다.\n",
    "- bootstrap:\n",
    "\n",
    "기본값: True\n",
    "\n",
    "옵션: True, False. True는 부트스트랩 샘플을 사용하여 개별 트리를 학습시킵니다. False는 전체 데이터셋을 사용하여 각 트리를 학습시킵니다."
   ]
  },
  {
   "cell_type": "code",
   "execution_count": 37,
   "metadata": {},
   "outputs": [],
   "source": [
    "import pandas as pd\n",
    "import numpy as np \n",
    "from scipy.stats import randint\n",
    "from sklearn.model_selection import RandomizedSearchCV\n",
    "from sklearn.ensemble import RandomForestClassifier\n",
    "from sklearn.model_selection import GridSearchCV\n",
    "from sklearn.model_selection import cross_val_score\n",
    "from collections import Counter\n",
    "from sklearn.datasets import make_classification\n",
    "from imblearn.over_sampling import ADASYN # doctest: +NORMALIZE_WHITESPACE"
   ]
  },
  {
   "cell_type": "code",
   "execution_count": 38,
   "metadata": {},
   "outputs": [],
   "source": [
    "train = pd.read_csv('./data/train.csv')\n",
    "submission = pd.read_csv('./data/sample_submission.csv')"
   ]
  },
  {
   "cell_type": "code",
   "execution_count": 39,
   "metadata": {},
   "outputs": [
    {
     "data": {
      "text/html": [
       "<div>\n",
       "<style scoped>\n",
       "    .dataframe tbody tr th:only-of-type {\n",
       "        vertical-align: middle;\n",
       "    }\n",
       "\n",
       "    .dataframe tbody tr th {\n",
       "        vertical-align: top;\n",
       "    }\n",
       "\n",
       "    .dataframe thead th {\n",
       "        text-align: right;\n",
       "    }\n",
       "</style>\n",
       "<table border=\"1\" class=\"dataframe\">\n",
       "  <thead>\n",
       "    <tr style=\"text-align: right;\">\n",
       "      <th></th>\n",
       "      <th>person_id</th>\n",
       "      <th>Sex</th>\n",
       "      <th>past_login_total</th>\n",
       "      <th>past_1_month_login</th>\n",
       "      <th>past_1_week_login</th>\n",
       "      <th>sub_size</th>\n",
       "      <th>email_type</th>\n",
       "      <th>phone_rat</th>\n",
       "      <th>apple_rat</th>\n",
       "      <th>login</th>\n",
       "    </tr>\n",
       "  </thead>\n",
       "  <tbody>\n",
       "    <tr>\n",
       "      <th>0</th>\n",
       "      <td>0</td>\n",
       "      <td>0</td>\n",
       "      <td>3.0</td>\n",
       "      <td>1.0</td>\n",
       "      <td>1.0</td>\n",
       "      <td>0.0</td>\n",
       "      <td>0</td>\n",
       "      <td>0.000000</td>\n",
       "      <td>0.000000</td>\n",
       "      <td>1</td>\n",
       "    </tr>\n",
       "    <tr>\n",
       "      <th>1</th>\n",
       "      <td>1</td>\n",
       "      <td>1</td>\n",
       "      <td>111.0</td>\n",
       "      <td>26.0</td>\n",
       "      <td>7.0</td>\n",
       "      <td>2.0</td>\n",
       "      <td>0</td>\n",
       "      <td>0.072072</td>\n",
       "      <td>0.000000</td>\n",
       "      <td>1</td>\n",
       "    </tr>\n",
       "    <tr>\n",
       "      <th>2</th>\n",
       "      <td>3</td>\n",
       "      <td>1</td>\n",
       "      <td>13.0</td>\n",
       "      <td>13.0</td>\n",
       "      <td>11.0</td>\n",
       "      <td>7.0</td>\n",
       "      <td>0</td>\n",
       "      <td>0.076923</td>\n",
       "      <td>1.000000</td>\n",
       "      <td>1</td>\n",
       "    </tr>\n",
       "    <tr>\n",
       "      <th>3</th>\n",
       "      <td>4</td>\n",
       "      <td>1</td>\n",
       "      <td>28.0</td>\n",
       "      <td>12.0</td>\n",
       "      <td>5.0</td>\n",
       "      <td>0.0</td>\n",
       "      <td>0</td>\n",
       "      <td>0.071429</td>\n",
       "      <td>0.071429</td>\n",
       "      <td>1</td>\n",
       "    </tr>\n",
       "    <tr>\n",
       "      <th>4</th>\n",
       "      <td>5</td>\n",
       "      <td>1</td>\n",
       "      <td>4.0</td>\n",
       "      <td>4.0</td>\n",
       "      <td>4.0</td>\n",
       "      <td>0.0</td>\n",
       "      <td>2</td>\n",
       "      <td>0.000000</td>\n",
       "      <td>0.000000</td>\n",
       "      <td>1</td>\n",
       "    </tr>\n",
       "  </tbody>\n",
       "</table>\n",
       "</div>"
      ],
      "text/plain": [
       "   person_id  Sex  past_login_total  past_1_month_login  past_1_week_login  \\\n",
       "0          0    0               3.0                 1.0                1.0   \n",
       "1          1    1             111.0                26.0                7.0   \n",
       "2          3    1              13.0                13.0               11.0   \n",
       "3          4    1              28.0                12.0                5.0   \n",
       "4          5    1               4.0                 4.0                4.0   \n",
       "\n",
       "   sub_size  email_type  phone_rat  apple_rat  login  \n",
       "0       0.0           0   0.000000   0.000000      1  \n",
       "1       2.0           0   0.072072   0.000000      1  \n",
       "2       7.0           0   0.076923   1.000000      1  \n",
       "3       0.0           0   0.071429   0.071429      1  \n",
       "4       0.0           2   0.000000   0.000000      1  "
      ]
     },
     "execution_count": 39,
     "metadata": {},
     "output_type": "execute_result"
    }
   ],
   "source": [
    "train.head()"
   ]
  },
  {
   "cell_type": "code",
   "execution_count": 3,
   "metadata": {},
   "outputs": [
    {
     "name": "stdout",
     "output_type": "stream",
     "text": [
      "<class 'pandas.core.frame.DataFrame'>\n",
      "RangeIndex: 1309 entries, 0 to 1308\n",
      "Data columns (total 10 columns):\n",
      " #   Column              Non-Null Count  Dtype  \n",
      "---  ------              --------------  -----  \n",
      " 0   person_id           1309 non-null   int64  \n",
      " 1   Sex                 1309 non-null   int64  \n",
      " 2   past_login_total    1309 non-null   float64\n",
      " 3   past_1_month_login  1309 non-null   float64\n",
      " 4   past_1_week_login   1309 non-null   float64\n",
      " 5   sub_size            1309 non-null   float64\n",
      " 6   email_type          1309 non-null   int64  \n",
      " 7   phone_rat           1309 non-null   float64\n",
      " 8   apple_rat           1309 non-null   float64\n",
      " 9   login               1309 non-null   int64  \n",
      "dtypes: float64(6), int64(4)\n",
      "memory usage: 102.4 KB\n"
     ]
    }
   ],
   "source": [
    "train.info()"
   ]
  },
  {
   "cell_type": "markdown",
   "metadata": {},
   "source": [
    "### **데이터 확인** sweetviz\n",
    "#### 컬럼별 특징\n",
    "- login : 타겟값, 불균형 심함 89:11\n",
    "- person_id : 고유값이므로 제거\n",
    "- sex : 54:46\n",
    "- past_login_total : 0~203,  43% 1 / 11% 2 / 10% 0 , 이상치 처리\n",
    "- past_1_month_login : 0~93, 85% 0, 이상치 처리\n",
    "- past_1_week_login : 0~23, 90% 0, 이상치 처리\n",
    "- sub_size : 0~358, 83% 0, 이상치 처리\n",
    "- email_type : 61% 0 / 21% 1 / 13% 2\n",
    "- phone_rat : 0~1, 76% 0\n",
    "- apple_rat : 0~1, 73% 0"
   ]
  },
  {
   "cell_type": "markdown",
   "metadata": {},
   "source": [
    "### **전처리**"
   ]
  },
  {
   "cell_type": "code",
   "execution_count": 40,
   "metadata": {},
   "outputs": [],
   "source": [
    "X = train.drop(\"login\", axis=1)\n",
    "Y = train[\"login\"]"
   ]
  },
  {
   "cell_type": "code",
   "execution_count": 42,
   "metadata": {},
   "outputs": [],
   "source": [
    "seed = 42"
   ]
  },
  {
   "cell_type": "markdown",
   "metadata": {},
   "source": [
    "#### 이상치 처리"
   ]
  },
  {
   "cell_type": "markdown",
   "metadata": {},
   "source": [
    "#### 타겟값 불균형 해결"
   ]
  },
  {
   "cell_type": "code",
   "execution_count": 43,
   "metadata": {},
   "outputs": [
    {
     "name": "stdout",
     "output_type": "stream",
     "text": [
      "SMOTE 적용 전 클래스 분포:\n",
      "login\n",
      "0    1163\n",
      "1     146\n",
      "Name: count, dtype: int64\n"
     ]
    }
   ],
   "source": [
    "# SMOTE 적용 전 클래스 분포 출력\n",
    "print(\"SMOTE 적용 전 클래스 분포:\")\n",
    "print(Y.value_counts())"
   ]
  },
  {
   "cell_type": "markdown",
   "metadata": {},
   "source": [
    "##### SMOTE"
   ]
  },
  {
   "cell_type": "code",
   "execution_count": 27,
   "metadata": {},
   "outputs": [
    {
     "name": "stdout",
     "output_type": "stream",
     "text": [
      "\n",
      "SMOTE 적용 후 클래스 분포:\n",
      "login\n",
      "1    1163\n",
      "0    1163\n",
      "Name: count, dtype: int64\n"
     ]
    }
   ],
   "source": [
    "from imblearn.over_sampling import SMOTE\n",
    "# SMOTE 적용\n",
    "smote = SMOTE(random_state=seed)\n",
    "x_train_resampled, y_train_resampled = smote.fit_resample(X, Y)\n",
    "\n",
    "# SMOTE 적용 후 클래스 분포 출력\n",
    "print(\"\\nSMOTE 적용 후 클래스 분포:\")\n",
    "print(pd.Series(y_train_resampled).value_counts())"
   ]
  },
  {
   "cell_type": "markdown",
   "metadata": {},
   "source": [
    "##### ADASYN"
   ]
  },
  {
   "cell_type": "code",
   "execution_count": 44,
   "metadata": {},
   "outputs": [
    {
     "name": "stdout",
     "output_type": "stream",
     "text": [
      "\n",
      "SMOTE 적용 후 클래스 분포:\n",
      "login\n",
      "1    1166\n",
      "0    1163\n",
      "Name: count, dtype: int64\n"
     ]
    }
   ],
   "source": [
    "ada = ADASYN(random_state=seed)\n",
    "x_train_resampled, y_train_resampled = ada.fit_resample(X, Y)\n",
    "\n",
    "# SMOTE 적용 후 클래스 분포 출력\n",
    "print(\"\\nSMOTE 적용 후 클래스 분포:\")\n",
    "print(pd.Series(y_train_resampled).value_counts())"
   ]
  },
  {
   "cell_type": "markdown",
   "metadata": {},
   "source": [
    "##### Tomek"
   ]
  },
  {
   "cell_type": "code",
   "execution_count": 18,
   "metadata": {},
   "outputs": [
    {
     "name": "stdout",
     "output_type": "stream",
     "text": [
      "\n",
      "SMOTE 적용 후 클래스 분포:\n",
      "login\n",
      "1    1163\n",
      "0    1089\n",
      "Name: count, dtype: int64\n"
     ]
    }
   ],
   "source": [
    "from imblearn.combine import SMOTETomek\n",
    "from imblearn.under_sampling import TomekLinks\n",
    "\n",
    "tomek = SMOTETomek(tomek=TomekLinks(sampling_strategy='majority'))\n",
    "x_train_resampled, y_train_resampled = tomek.fit_resample(X, Y)\n",
    "\n",
    "# SMOTE 적용 후 클래스 분포 출력\n",
    "print(\"\\nSMOTE 적용 후 클래스 분포:\")\n",
    "print(pd.Series(y_train_resampled).value_counts())"
   ]
  },
  {
   "cell_type": "code",
   "execution_count": 8,
   "metadata": {},
   "outputs": [
    {
     "data": {
      "text/html": [
       "<div>\n",
       "<style scoped>\n",
       "    .dataframe tbody tr th:only-of-type {\n",
       "        vertical-align: middle;\n",
       "    }\n",
       "\n",
       "    .dataframe tbody tr th {\n",
       "        vertical-align: top;\n",
       "    }\n",
       "\n",
       "    .dataframe thead th {\n",
       "        text-align: right;\n",
       "    }\n",
       "</style>\n",
       "<table border=\"1\" class=\"dataframe\">\n",
       "  <thead>\n",
       "    <tr style=\"text-align: right;\">\n",
       "      <th></th>\n",
       "      <th>person_id</th>\n",
       "      <th>Sex</th>\n",
       "      <th>past_login_total</th>\n",
       "      <th>past_1_month_login</th>\n",
       "      <th>past_1_week_login</th>\n",
       "      <th>sub_size</th>\n",
       "      <th>email_type</th>\n",
       "      <th>phone_rat</th>\n",
       "      <th>apple_rat</th>\n",
       "      <th>login</th>\n",
       "    </tr>\n",
       "  </thead>\n",
       "  <tbody>\n",
       "    <tr>\n",
       "      <th>0</th>\n",
       "      <td>0</td>\n",
       "      <td>0</td>\n",
       "      <td>3.000000</td>\n",
       "      <td>1.0</td>\n",
       "      <td>1.0</td>\n",
       "      <td>0.000000</td>\n",
       "      <td>0</td>\n",
       "      <td>0.000000</td>\n",
       "      <td>0.000000</td>\n",
       "      <td>1</td>\n",
       "    </tr>\n",
       "    <tr>\n",
       "      <th>1</th>\n",
       "      <td>1</td>\n",
       "      <td>1</td>\n",
       "      <td>111.000000</td>\n",
       "      <td>26.0</td>\n",
       "      <td>7.0</td>\n",
       "      <td>2.000000</td>\n",
       "      <td>0</td>\n",
       "      <td>0.072072</td>\n",
       "      <td>0.000000</td>\n",
       "      <td>1</td>\n",
       "    </tr>\n",
       "    <tr>\n",
       "      <th>2</th>\n",
       "      <td>3</td>\n",
       "      <td>1</td>\n",
       "      <td>13.000000</td>\n",
       "      <td>13.0</td>\n",
       "      <td>11.0</td>\n",
       "      <td>7.000000</td>\n",
       "      <td>0</td>\n",
       "      <td>0.076923</td>\n",
       "      <td>1.000000</td>\n",
       "      <td>1</td>\n",
       "    </tr>\n",
       "    <tr>\n",
       "      <th>3</th>\n",
       "      <td>4</td>\n",
       "      <td>1</td>\n",
       "      <td>28.000000</td>\n",
       "      <td>12.0</td>\n",
       "      <td>5.0</td>\n",
       "      <td>0.000000</td>\n",
       "      <td>0</td>\n",
       "      <td>0.071429</td>\n",
       "      <td>0.071429</td>\n",
       "      <td>1</td>\n",
       "    </tr>\n",
       "    <tr>\n",
       "      <th>4</th>\n",
       "      <td>5</td>\n",
       "      <td>1</td>\n",
       "      <td>4.000000</td>\n",
       "      <td>4.0</td>\n",
       "      <td>4.0</td>\n",
       "      <td>0.000000</td>\n",
       "      <td>2</td>\n",
       "      <td>0.000000</td>\n",
       "      <td>0.000000</td>\n",
       "      <td>1</td>\n",
       "    </tr>\n",
       "    <tr>\n",
       "      <th>...</th>\n",
       "      <td>...</td>\n",
       "      <td>...</td>\n",
       "      <td>...</td>\n",
       "      <td>...</td>\n",
       "      <td>...</td>\n",
       "      <td>...</td>\n",
       "      <td>...</td>\n",
       "      <td>...</td>\n",
       "      <td>...</td>\n",
       "      <td>...</td>\n",
       "    </tr>\n",
       "    <tr>\n",
       "      <th>2324</th>\n",
       "      <td>1952</td>\n",
       "      <td>1</td>\n",
       "      <td>1.031511</td>\n",
       "      <td>0.0</td>\n",
       "      <td>0.0</td>\n",
       "      <td>0.000000</td>\n",
       "      <td>1</td>\n",
       "      <td>0.031511</td>\n",
       "      <td>0.000000</td>\n",
       "      <td>1</td>\n",
       "    </tr>\n",
       "    <tr>\n",
       "      <th>2325</th>\n",
       "      <td>1718</td>\n",
       "      <td>0</td>\n",
       "      <td>48.325423</td>\n",
       "      <td>0.0</td>\n",
       "      <td>0.0</td>\n",
       "      <td>31.149853</td>\n",
       "      <td>2</td>\n",
       "      <td>0.201286</td>\n",
       "      <td>0.000000</td>\n",
       "      <td>1</td>\n",
       "    </tr>\n",
       "    <tr>\n",
       "      <th>2326</th>\n",
       "      <td>1903</td>\n",
       "      <td>0</td>\n",
       "      <td>18.983678</td>\n",
       "      <td>0.0</td>\n",
       "      <td>0.0</td>\n",
       "      <td>11.420059</td>\n",
       "      <td>0</td>\n",
       "      <td>0.707178</td>\n",
       "      <td>0.000000</td>\n",
       "      <td>1</td>\n",
       "    </tr>\n",
       "    <tr>\n",
       "      <th>2327</th>\n",
       "      <td>1896</td>\n",
       "      <td>1</td>\n",
       "      <td>1.020030</td>\n",
       "      <td>0.0</td>\n",
       "      <td>0.0</td>\n",
       "      <td>0.000000</td>\n",
       "      <td>1</td>\n",
       "      <td>0.020030</td>\n",
       "      <td>0.000000</td>\n",
       "      <td>1</td>\n",
       "    </tr>\n",
       "    <tr>\n",
       "      <th>2328</th>\n",
       "      <td>1790</td>\n",
       "      <td>1</td>\n",
       "      <td>0.796237</td>\n",
       "      <td>0.0</td>\n",
       "      <td>0.0</td>\n",
       "      <td>0.601882</td>\n",
       "      <td>0</td>\n",
       "      <td>0.398118</td>\n",
       "      <td>0.000000</td>\n",
       "      <td>1</td>\n",
       "    </tr>\n",
       "  </tbody>\n",
       "</table>\n",
       "<p>2329 rows × 10 columns</p>\n",
       "</div>"
      ],
      "text/plain": [
       "      person_id  Sex  past_login_total  past_1_month_login  past_1_week_login  \\\n",
       "0             0    0          3.000000                 1.0                1.0   \n",
       "1             1    1        111.000000                26.0                7.0   \n",
       "2             3    1         13.000000                13.0               11.0   \n",
       "3             4    1         28.000000                12.0                5.0   \n",
       "4             5    1          4.000000                 4.0                4.0   \n",
       "...         ...  ...               ...                 ...                ...   \n",
       "2324       1952    1          1.031511                 0.0                0.0   \n",
       "2325       1718    0         48.325423                 0.0                0.0   \n",
       "2326       1903    0         18.983678                 0.0                0.0   \n",
       "2327       1896    1          1.020030                 0.0                0.0   \n",
       "2328       1790    1          0.796237                 0.0                0.0   \n",
       "\n",
       "       sub_size  email_type  phone_rat  apple_rat  login  \n",
       "0      0.000000           0   0.000000   0.000000      1  \n",
       "1      2.000000           0   0.072072   0.000000      1  \n",
       "2      7.000000           0   0.076923   1.000000      1  \n",
       "3      0.000000           0   0.071429   0.071429      1  \n",
       "4      0.000000           2   0.000000   0.000000      1  \n",
       "...         ...         ...        ...        ...    ...  \n",
       "2324   0.000000           1   0.031511   0.000000      1  \n",
       "2325  31.149853           2   0.201286   0.000000      1  \n",
       "2326  11.420059           0   0.707178   0.000000      1  \n",
       "2327   0.000000           1   0.020030   0.000000      1  \n",
       "2328   0.601882           0   0.398118   0.000000      1  \n",
       "\n",
       "[2329 rows x 10 columns]"
      ]
     },
     "execution_count": 8,
     "metadata": {},
     "output_type": "execute_result"
    }
   ],
   "source": [
    "train_resampled = pd.concat([x_train_resampled, y_train_resampled], axis=1)\n",
    "train_resampled"
   ]
  },
  {
   "cell_type": "code",
   "execution_count": 107,
   "metadata": {},
   "outputs": [
    {
     "data": {
      "image/png": "[encoded data removed]",
      "text/plain": [
       "<Figure size 800x550 with 1 Axes>"
      ]
     },
     "metadata": {},
     "output_type": "display_data"
    }
   ],
   "source": [
    "import matplotlib.pyplot as plt\n",
    "import pandas as pd\n",
    "train_resampled[['sub_size']].boxplot()\n",
    "plt.show()"
   ]
  },
  {
   "cell_type": "code",
   "execution_count": 9,
   "metadata": {},
   "outputs": [],
   "source": [
    "train_resampled = train_resampled[(train_resampled['past_login_total']<=400)&(train_resampled['past_1_month_login']<=80)&(train_resampled['past_login_total']<=15)]"
   ]
  },
  {
   "cell_type": "markdown",
   "metadata": {},
   "source": [
    "#### 스케일링"
   ]
  },
  {
   "cell_type": "markdown",
   "metadata": {},
   "source": [
    "### **AUTOML**"
   ]
  },
  {
   "cell_type": "code",
   "execution_count": 83,
   "metadata": {},
   "outputs": [],
   "source": [
    "import pycaret \n",
    "from pycaret.classification import *"
   ]
  },
  {
   "cell_type": "code",
   "execution_count": 113,
   "metadata": {},
   "outputs": [
    {
     "data": {
      "text/html": [
       "<style type=\"text/css\">\n",
       "#T_ca51f_row9_col1 {\n",
       "  background-color: lightgreen;\n",
       "}\n",
       "</style>\n",
       "<table id=\"T_ca51f\">\n",
       "  <thead>\n",
       "    <tr>\n",
       "      <th class=\"blank level0\" >&nbsp;</th>\n",
       "      <th id=\"T_ca51f_level0_col0\" class=\"col_heading level0 col0\" >Description</th>\n",
       "      <th id=\"T_ca51f_level0_col1\" class=\"col_heading level0 col1\" >Value</th>\n",
       "    </tr>\n",
       "  </thead>\n",
       "  <tbody>\n",
       "    <tr>\n",
       "      <th id=\"T_ca51f_level0_row0\" class=\"row_heading level0 row0\" >0</th>\n",
       "      <td id=\"T_ca51f_row0_col0\" class=\"data row0 col0\" >Session id</td>\n",
       "      <td id=\"T_ca51f_row0_col1\" class=\"data row0 col1\" >42</td>\n",
       "    </tr>\n",
       "    <tr>\n",
       "      <th id=\"T_ca51f_level0_row1\" class=\"row_heading level0 row1\" >1</th>\n",
       "      <td id=\"T_ca51f_row1_col0\" class=\"data row1 col0\" >Target</td>\n",
       "      <td id=\"T_ca51f_row1_col1\" class=\"data row1 col1\" >login</td>\n",
       "    </tr>\n",
       "    <tr>\n",
       "      <th id=\"T_ca51f_level0_row2\" class=\"row_heading level0 row2\" >2</th>\n",
       "      <td id=\"T_ca51f_row2_col0\" class=\"data row2 col0\" >Target type</td>\n",
       "      <td id=\"T_ca51f_row2_col1\" class=\"data row2 col1\" >Binary</td>\n",
       "    </tr>\n",
       "    <tr>\n",
       "      <th id=\"T_ca51f_level0_row3\" class=\"row_heading level0 row3\" >3</th>\n",
       "      <td id=\"T_ca51f_row3_col0\" class=\"data row3 col0\" >Original data shape</td>\n",
       "      <td id=\"T_ca51f_row3_col1\" class=\"data row3 col1\" >(1999, 10)</td>\n",
       "    </tr>\n",
       "    <tr>\n",
       "      <th id=\"T_ca51f_level0_row4\" class=\"row_heading level0 row4\" >4</th>\n",
       "      <td id=\"T_ca51f_row4_col0\" class=\"data row4 col0\" >Transformed data shape</td>\n",
       "      <td id=\"T_ca51f_row4_col1\" class=\"data row4 col1\" >(1999, 9)</td>\n",
       "    </tr>\n",
       "    <tr>\n",
       "      <th id=\"T_ca51f_level0_row5\" class=\"row_heading level0 row5\" >5</th>\n",
       "      <td id=\"T_ca51f_row5_col0\" class=\"data row5 col0\" >Transformed train set shape</td>\n",
       "      <td id=\"T_ca51f_row5_col1\" class=\"data row5 col1\" >(1599, 9)</td>\n",
       "    </tr>\n",
       "    <tr>\n",
       "      <th id=\"T_ca51f_level0_row6\" class=\"row_heading level0 row6\" >6</th>\n",
       "      <td id=\"T_ca51f_row6_col0\" class=\"data row6 col0\" >Transformed test set shape</td>\n",
       "      <td id=\"T_ca51f_row6_col1\" class=\"data row6 col1\" >(400, 9)</td>\n",
       "    </tr>\n",
       "    <tr>\n",
       "      <th id=\"T_ca51f_level0_row7\" class=\"row_heading level0 row7\" >7</th>\n",
       "      <td id=\"T_ca51f_row7_col0\" class=\"data row7 col0\" >Ignore features</td>\n",
       "      <td id=\"T_ca51f_row7_col1\" class=\"data row7 col1\" >1</td>\n",
       "    </tr>\n",
       "    <tr>\n",
       "      <th id=\"T_ca51f_level0_row8\" class=\"row_heading level0 row8\" >8</th>\n",
       "      <td id=\"T_ca51f_row8_col0\" class=\"data row8 col0\" >Numeric features</td>\n",
       "      <td id=\"T_ca51f_row8_col1\" class=\"data row8 col1\" >8</td>\n",
       "    </tr>\n",
       "    <tr>\n",
       "      <th id=\"T_ca51f_level0_row9\" class=\"row_heading level0 row9\" >9</th>\n",
       "      <td id=\"T_ca51f_row9_col0\" class=\"data row9 col0\" >Preprocess</td>\n",
       "      <td id=\"T_ca51f_row9_col1\" class=\"data row9 col1\" >True</td>\n",
       "    </tr>\n",
       "    <tr>\n",
       "      <th id=\"T_ca51f_level0_row10\" class=\"row_heading level0 row10\" >10</th>\n",
       "      <td id=\"T_ca51f_row10_col0\" class=\"data row10 col0\" >Imputation type</td>\n",
       "      <td id=\"T_ca51f_row10_col1\" class=\"data row10 col1\" >simple</td>\n",
       "    </tr>\n",
       "    <tr>\n",
       "      <th id=\"T_ca51f_level0_row11\" class=\"row_heading level0 row11\" >11</th>\n",
       "      <td id=\"T_ca51f_row11_col0\" class=\"data row11 col0\" >Numeric imputation</td>\n",
       "      <td id=\"T_ca51f_row11_col1\" class=\"data row11 col1\" >mean</td>\n",
       "    </tr>\n",
       "    <tr>\n",
       "      <th id=\"T_ca51f_level0_row12\" class=\"row_heading level0 row12\" >12</th>\n",
       "      <td id=\"T_ca51f_row12_col0\" class=\"data row12 col0\" >Categorical imputation</td>\n",
       "      <td id=\"T_ca51f_row12_col1\" class=\"data row12 col1\" >mode</td>\n",
       "    </tr>\n",
       "    <tr>\n",
       "      <th id=\"T_ca51f_level0_row13\" class=\"row_heading level0 row13\" >13</th>\n",
       "      <td id=\"T_ca51f_row13_col0\" class=\"data row13 col0\" >Fold Generator</td>\n",
       "      <td id=\"T_ca51f_row13_col1\" class=\"data row13 col1\" >StratifiedKFold</td>\n",
       "    </tr>\n",
       "    <tr>\n",
       "      <th id=\"T_ca51f_level0_row14\" class=\"row_heading level0 row14\" >14</th>\n",
       "      <td id=\"T_ca51f_row14_col0\" class=\"data row14 col0\" >Fold Number</td>\n",
       "      <td id=\"T_ca51f_row14_col1\" class=\"data row14 col1\" >10</td>\n",
       "    </tr>\n",
       "    <tr>\n",
       "      <th id=\"T_ca51f_level0_row15\" class=\"row_heading level0 row15\" >15</th>\n",
       "      <td id=\"T_ca51f_row15_col0\" class=\"data row15 col0\" >CPU Jobs</td>\n",
       "      <td id=\"T_ca51f_row15_col1\" class=\"data row15 col1\" >-1</td>\n",
       "    </tr>\n",
       "    <tr>\n",
       "      <th id=\"T_ca51f_level0_row16\" class=\"row_heading level0 row16\" >16</th>\n",
       "      <td id=\"T_ca51f_row16_col0\" class=\"data row16 col0\" >Use GPU</td>\n",
       "      <td id=\"T_ca51f_row16_col1\" class=\"data row16 col1\" >False</td>\n",
       "    </tr>\n",
       "    <tr>\n",
       "      <th id=\"T_ca51f_level0_row17\" class=\"row_heading level0 row17\" >17</th>\n",
       "      <td id=\"T_ca51f_row17_col0\" class=\"data row17 col0\" >Log Experiment</td>\n",
       "      <td id=\"T_ca51f_row17_col1\" class=\"data row17 col1\" >False</td>\n",
       "    </tr>\n",
       "    <tr>\n",
       "      <th id=\"T_ca51f_level0_row18\" class=\"row_heading level0 row18\" >18</th>\n",
       "      <td id=\"T_ca51f_row18_col0\" class=\"data row18 col0\" >Experiment Name</td>\n",
       "      <td id=\"T_ca51f_row18_col1\" class=\"data row18 col1\" >clf-default-name</td>\n",
       "    </tr>\n",
       "    <tr>\n",
       "      <th id=\"T_ca51f_level0_row19\" class=\"row_heading level0 row19\" >19</th>\n",
       "      <td id=\"T_ca51f_row19_col0\" class=\"data row19 col0\" >USI</td>\n",
       "      <td id=\"T_ca51f_row19_col1\" class=\"data row19 col1\" >f816</td>\n",
       "    </tr>\n",
       "  </tbody>\n",
       "</table>\n"
      ],
      "text/plain": [
       "<pandas.io.formats.style.Styler at 0x2671a939090>"
      ]
     },
     "metadata": {},
     "output_type": "display_data"
    }
   ],
   "source": [
    "classification = setup(data=train_resampled, target='login', \n",
    "                       train_size=0.8, session_id=seed, ignore_features=['person_id'])"
   ]
  },
  {
   "cell_type": "code",
   "execution_count": 114,
   "metadata": {},
   "outputs": [
    {
     "data": {
      "text/html": [
       "<div>\n",
       "<style scoped>\n",
       "    .dataframe tbody tr th:only-of-type {\n",
       "        vertical-align: middle;\n",
       "    }\n",
       "\n",
       "    .dataframe tbody tr th {\n",
       "        vertical-align: top;\n",
       "    }\n",
       "\n",
       "    .dataframe thead th {\n",
       "        text-align: right;\n",
       "    }\n",
       "</style>\n",
       "<table border=\"1\" class=\"dataframe\">\n",
       "  <thead>\n",
       "    <tr style=\"text-align: right;\">\n",
       "      <th></th>\n",
       "      <th></th>\n",
       "      <th></th>\n",
       "    </tr>\n",
       "    <tr>\n",
       "      <th></th>\n",
       "      <th></th>\n",
       "      <th></th>\n",
       "    </tr>\n",
       "  </thead>\n",
       "  <tbody>\n",
       "    <tr>\n",
       "      <th>Initiated</th>\n",
       "      <td>. . . . . . . . . . . . . . . . . .</td>\n",
       "      <td>02:24:10</td>\n",
       "    </tr>\n",
       "    <tr>\n",
       "      <th>Status</th>\n",
       "      <td>. . . . . . . . . . . . . . . . . .</td>\n",
       "      <td>Loading Estimator</td>\n",
       "    </tr>\n",
       "    <tr>\n",
       "      <th>Estimator</th>\n",
       "      <td>. . . . . . . . . . . . . . . . . .</td>\n",
       "      <td>Random Forest Classifier</td>\n",
       "    </tr>\n",
       "  </tbody>\n",
       "</table>\n",
       "</div>"
      ],
      "text/plain": [
       "                                                                        \n",
       "                                                                        \n",
       "Initiated  . . . . . . . . . . . . . . . . . .                  02:24:10\n",
       "Status     . . . . . . . . . . . . . . . . . .         Loading Estimator\n",
       "Estimator  . . . . . . . . . . . . . . . . . .  Random Forest Classifier"
      ]
     },
     "metadata": {},
     "output_type": "display_data"
    },
    {
     "data": {
      "text/html": [
       "<style type=\"text/css\">\n",
       "#T_3b0b1 th {\n",
       "  text-align: left;\n",
       "}\n",
       "#T_3b0b1_row0_col0 {\n",
       "  text-align: left;\n",
       "}\n",
       "#T_3b0b1_row0_col1, #T_3b0b1_row0_col2, #T_3b0b1_row0_col3, #T_3b0b1_row0_col4, #T_3b0b1_row0_col5, #T_3b0b1_row0_col6, #T_3b0b1_row0_col7 {\n",
       "  text-align: left;\n",
       "  background-color: yellow;\n",
       "}\n",
       "#T_3b0b1_row0_col8 {\n",
       "  text-align: left;\n",
       "  background-color: yellow;\n",
       "  background-color: lightgrey;\n",
       "}\n",
       "</style>\n",
       "<table id=\"T_3b0b1\">\n",
       "  <thead>\n",
       "    <tr>\n",
       "      <th class=\"blank level0\" >&nbsp;</th>\n",
       "      <th id=\"T_3b0b1_level0_col0\" class=\"col_heading level0 col0\" >Model</th>\n",
       "      <th id=\"T_3b0b1_level0_col1\" class=\"col_heading level0 col1\" >Accuracy</th>\n",
       "      <th id=\"T_3b0b1_level0_col2\" class=\"col_heading level0 col2\" >AUC</th>\n",
       "      <th id=\"T_3b0b1_level0_col3\" class=\"col_heading level0 col3\" >Recall</th>\n",
       "      <th id=\"T_3b0b1_level0_col4\" class=\"col_heading level0 col4\" >Prec.</th>\n",
       "      <th id=\"T_3b0b1_level0_col5\" class=\"col_heading level0 col5\" >F1</th>\n",
       "      <th id=\"T_3b0b1_level0_col6\" class=\"col_heading level0 col6\" >Kappa</th>\n",
       "      <th id=\"T_3b0b1_level0_col7\" class=\"col_heading level0 col7\" >MCC</th>\n",
       "      <th id=\"T_3b0b1_level0_col8\" class=\"col_heading level0 col8\" >TT (Sec)</th>\n",
       "    </tr>\n",
       "  </thead>\n",
       "  <tbody>\n",
       "    <tr>\n",
       "      <th id=\"T_3b0b1_level0_row0\" class=\"row_heading level0 row0\" >rf</th>\n",
       "      <td id=\"T_3b0b1_row0_col0\" class=\"data row0 col0\" >Random Forest Classifier</td>\n",
       "      <td id=\"T_3b0b1_row0_col1\" class=\"data row0 col1\" >0.8956</td>\n",
       "      <td id=\"T_3b0b1_row0_col2\" class=\"data row0 col2\" >0.9441</td>\n",
       "      <td id=\"T_3b0b1_row0_col3\" class=\"data row0 col3\" >0.8543</td>\n",
       "      <td id=\"T_3b0b1_row0_col4\" class=\"data row0 col4\" >0.9163</td>\n",
       "      <td id=\"T_3b0b1_row0_col5\" class=\"data row0 col5\" >0.8831</td>\n",
       "      <td id=\"T_3b0b1_row0_col6\" class=\"data row0 col6\" >0.7890</td>\n",
       "      <td id=\"T_3b0b1_row0_col7\" class=\"data row0 col7\" >0.7920</td>\n",
       "      <td id=\"T_3b0b1_row0_col8\" class=\"data row0 col8\" >0.0530</td>\n",
       "    </tr>\n",
       "  </tbody>\n",
       "</table>\n"
      ],
      "text/plain": [
       "<pandas.io.formats.style.Styler at 0x2671a967eb0>"
      ]
     },
     "metadata": {},
     "output_type": "display_data"
    },
    {
     "data": {
      "text/html": [],
      "text/plain": [
       "<IPython.core.display.HTML object>"
      ]
     },
     "metadata": {},
     "output_type": "display_data"
    },
    {
     "data": {
      "text/html": [],
      "text/plain": [
       "<IPython.core.display.HTML object>"
      ]
     },
     "metadata": {},
     "output_type": "display_data"
    },
    {
     "data": {
      "text/html": [
       "<style type=\"text/css\">\n",
       "#T_b1241_row10_col0, #T_b1241_row10_col1, #T_b1241_row10_col2, #T_b1241_row10_col3, #T_b1241_row10_col4, #T_b1241_row10_col5, #T_b1241_row10_col6 {\n",
       "  background: yellow;\n",
       "}\n",
       "</style>\n",
       "<table id=\"T_b1241\">\n",
       "  <thead>\n",
       "    <tr>\n",
       "      <th class=\"blank level0\" >&nbsp;</th>\n",
       "      <th id=\"T_b1241_level0_col0\" class=\"col_heading level0 col0\" >Accuracy</th>\n",
       "      <th id=\"T_b1241_level0_col1\" class=\"col_heading level0 col1\" >AUC</th>\n",
       "      <th id=\"T_b1241_level0_col2\" class=\"col_heading level0 col2\" >Recall</th>\n",
       "      <th id=\"T_b1241_level0_col3\" class=\"col_heading level0 col3\" >Prec.</th>\n",
       "      <th id=\"T_b1241_level0_col4\" class=\"col_heading level0 col4\" >F1</th>\n",
       "      <th id=\"T_b1241_level0_col5\" class=\"col_heading level0 col5\" >Kappa</th>\n",
       "      <th id=\"T_b1241_level0_col6\" class=\"col_heading level0 col6\" >MCC</th>\n",
       "    </tr>\n",
       "    <tr>\n",
       "      <th class=\"index_name level0\" >Fold</th>\n",
       "      <th class=\"blank col0\" >&nbsp;</th>\n",
       "      <th class=\"blank col1\" >&nbsp;</th>\n",
       "      <th class=\"blank col2\" >&nbsp;</th>\n",
       "      <th class=\"blank col3\" >&nbsp;</th>\n",
       "      <th class=\"blank col4\" >&nbsp;</th>\n",
       "      <th class=\"blank col5\" >&nbsp;</th>\n",
       "      <th class=\"blank col6\" >&nbsp;</th>\n",
       "    </tr>\n",
       "  </thead>\n",
       "  <tbody>\n",
       "    <tr>\n",
       "      <th id=\"T_b1241_level0_row0\" class=\"row_heading level0 row0\" >0</th>\n",
       "      <td id=\"T_b1241_row0_col0\" class=\"data row0 col0\" >0.9125</td>\n",
       "      <td id=\"T_b1241_row0_col1\" class=\"data row0 col1\" >0.9639</td>\n",
       "      <td id=\"T_b1241_row0_col2\" class=\"data row0 col2\" >0.9467</td>\n",
       "      <td id=\"T_b1241_row0_col3\" class=\"data row0 col3\" >0.8765</td>\n",
       "      <td id=\"T_b1241_row0_col4\" class=\"data row0 col4\" >0.9103</td>\n",
       "      <td id=\"T_b1241_row0_col5\" class=\"data row0 col5\" >0.8251</td>\n",
       "      <td id=\"T_b1241_row0_col6\" class=\"data row0 col6\" >0.8275</td>\n",
       "    </tr>\n",
       "    <tr>\n",
       "      <th id=\"T_b1241_level0_row1\" class=\"row_heading level0 row1\" >1</th>\n",
       "      <td id=\"T_b1241_row1_col0\" class=\"data row1 col0\" >0.8875</td>\n",
       "      <td id=\"T_b1241_row1_col1\" class=\"data row1 col1\" >0.9687</td>\n",
       "      <td id=\"T_b1241_row1_col2\" class=\"data row1 col2\" >0.8667</td>\n",
       "      <td id=\"T_b1241_row1_col3\" class=\"data row1 col3\" >0.8904</td>\n",
       "      <td id=\"T_b1241_row1_col4\" class=\"data row1 col4\" >0.8784</td>\n",
       "      <td id=\"T_b1241_row1_col5\" class=\"data row1 col5\" >0.7738</td>\n",
       "      <td id=\"T_b1241_row1_col6\" class=\"data row1 col6\" >0.7740</td>\n",
       "    </tr>\n",
       "    <tr>\n",
       "      <th id=\"T_b1241_level0_row2\" class=\"row_heading level0 row2\" >2</th>\n",
       "      <td id=\"T_b1241_row2_col0\" class=\"data row2 col0\" >0.8625</td>\n",
       "      <td id=\"T_b1241_row2_col1\" class=\"data row2 col1\" >0.9313</td>\n",
       "      <td id=\"T_b1241_row2_col2\" class=\"data row2 col2\" >0.8784</td>\n",
       "      <td id=\"T_b1241_row2_col3\" class=\"data row2 col3\" >0.8333</td>\n",
       "      <td id=\"T_b1241_row2_col4\" class=\"data row2 col4\" >0.8553</td>\n",
       "      <td id=\"T_b1241_row2_col5\" class=\"data row2 col5\" >0.7245</td>\n",
       "      <td id=\"T_b1241_row2_col6\" class=\"data row2 col6\" >0.7254</td>\n",
       "    </tr>\n",
       "    <tr>\n",
       "      <th id=\"T_b1241_level0_row3\" class=\"row_heading level0 row3\" >3</th>\n",
       "      <td id=\"T_b1241_row3_col0\" class=\"data row3 col0\" >0.8812</td>\n",
       "      <td id=\"T_b1241_row3_col1\" class=\"data row3 col1\" >0.9336</td>\n",
       "      <td id=\"T_b1241_row3_col2\" class=\"data row3 col2\" >0.7973</td>\n",
       "      <td id=\"T_b1241_row3_col3\" class=\"data row3 col3\" >0.9365</td>\n",
       "      <td id=\"T_b1241_row3_col4\" class=\"data row3 col4\" >0.8613</td>\n",
       "      <td id=\"T_b1241_row3_col5\" class=\"data row3 col5\" >0.7587</td>\n",
       "      <td id=\"T_b1241_row3_col6\" class=\"data row3 col6\" >0.7662</td>\n",
       "    </tr>\n",
       "    <tr>\n",
       "      <th id=\"T_b1241_level0_row4\" class=\"row_heading level0 row4\" >4</th>\n",
       "      <td id=\"T_b1241_row4_col0\" class=\"data row4 col0\" >0.8000</td>\n",
       "      <td id=\"T_b1241_row4_col1\" class=\"data row4 col1\" >0.9052</td>\n",
       "      <td id=\"T_b1241_row4_col2\" class=\"data row4 col2\" >0.8243</td>\n",
       "      <td id=\"T_b1241_row4_col3\" class=\"data row4 col3\" >0.7625</td>\n",
       "      <td id=\"T_b1241_row4_col4\" class=\"data row4 col4\" >0.7922</td>\n",
       "      <td id=\"T_b1241_row4_col5\" class=\"data row4 col5\" >0.6000</td>\n",
       "      <td id=\"T_b1241_row4_col6\" class=\"data row4 col6\" >0.6017</td>\n",
       "    </tr>\n",
       "    <tr>\n",
       "      <th id=\"T_b1241_level0_row5\" class=\"row_heading level0 row5\" >5</th>\n",
       "      <td id=\"T_b1241_row5_col0\" class=\"data row5 col0\" >0.8750</td>\n",
       "      <td id=\"T_b1241_row5_col1\" class=\"data row5 col1\" >0.9299</td>\n",
       "      <td id=\"T_b1241_row5_col2\" class=\"data row5 col2\" >0.8243</td>\n",
       "      <td id=\"T_b1241_row5_col3\" class=\"data row5 col3\" >0.8971</td>\n",
       "      <td id=\"T_b1241_row5_col4\" class=\"data row5 col4\" >0.8592</td>\n",
       "      <td id=\"T_b1241_row5_col5\" class=\"data row5 col5\" >0.7472</td>\n",
       "      <td id=\"T_b1241_row5_col6\" class=\"data row5 col6\" >0.7493</td>\n",
       "    </tr>\n",
       "    <tr>\n",
       "      <th id=\"T_b1241_level0_row6\" class=\"row_heading level0 row6\" >6</th>\n",
       "      <td id=\"T_b1241_row6_col0\" class=\"data row6 col0\" >0.8438</td>\n",
       "      <td id=\"T_b1241_row6_col1\" class=\"data row6 col1\" >0.9183</td>\n",
       "      <td id=\"T_b1241_row6_col2\" class=\"data row6 col2\" >0.8784</td>\n",
       "      <td id=\"T_b1241_row6_col3\" class=\"data row6 col3\" >0.8025</td>\n",
       "      <td id=\"T_b1241_row6_col4\" class=\"data row6 col4\" >0.8387</td>\n",
       "      <td id=\"T_b1241_row6_col5\" class=\"data row6 col5\" >0.6878</td>\n",
       "      <td id=\"T_b1241_row6_col6\" class=\"data row6 col6\" >0.6904</td>\n",
       "    </tr>\n",
       "    <tr>\n",
       "      <th id=\"T_b1241_level0_row7\" class=\"row_heading level0 row7\" >7</th>\n",
       "      <td id=\"T_b1241_row7_col0\" class=\"data row7 col0\" >0.9000</td>\n",
       "      <td id=\"T_b1241_row7_col1\" class=\"data row7 col1\" >0.9569</td>\n",
       "      <td id=\"T_b1241_row7_col2\" class=\"data row7 col2\" >0.8784</td>\n",
       "      <td id=\"T_b1241_row7_col3\" class=\"data row7 col3\" >0.9028</td>\n",
       "      <td id=\"T_b1241_row7_col4\" class=\"data row7 col4\" >0.8904</td>\n",
       "      <td id=\"T_b1241_row7_col5\" class=\"data row7 col5\" >0.7985</td>\n",
       "      <td id=\"T_b1241_row7_col6\" class=\"data row7 col6\" >0.7987</td>\n",
       "    </tr>\n",
       "    <tr>\n",
       "      <th id=\"T_b1241_level0_row8\" class=\"row_heading level0 row8\" >8</th>\n",
       "      <td id=\"T_b1241_row8_col0\" class=\"data row8 col0\" >0.8312</td>\n",
       "      <td id=\"T_b1241_row8_col1\" class=\"data row8 col1\" >0.9016</td>\n",
       "      <td id=\"T_b1241_row8_col2\" class=\"data row8 col2\" >0.8514</td>\n",
       "      <td id=\"T_b1241_row8_col3\" class=\"data row8 col3\" >0.7975</td>\n",
       "      <td id=\"T_b1241_row8_col4\" class=\"data row8 col4\" >0.8235</td>\n",
       "      <td id=\"T_b1241_row8_col5\" class=\"data row8 col5\" >0.6622</td>\n",
       "      <td id=\"T_b1241_row8_col6\" class=\"data row8 col6\" >0.6635</td>\n",
       "    </tr>\n",
       "    <tr>\n",
       "      <th id=\"T_b1241_level0_row9\" class=\"row_heading level0 row9\" >9</th>\n",
       "      <td id=\"T_b1241_row9_col0\" class=\"data row9 col0\" >0.8994</td>\n",
       "      <td id=\"T_b1241_row9_col1\" class=\"data row9 col1\" >0.9340</td>\n",
       "      <td id=\"T_b1241_row9_col2\" class=\"data row9 col2\" >0.8919</td>\n",
       "      <td id=\"T_b1241_row9_col3\" class=\"data row9 col3\" >0.8919</td>\n",
       "      <td id=\"T_b1241_row9_col4\" class=\"data row9 col4\" >0.8919</td>\n",
       "      <td id=\"T_b1241_row9_col5\" class=\"data row9 col5\" >0.7978</td>\n",
       "      <td id=\"T_b1241_row9_col6\" class=\"data row9 col6\" >0.7978</td>\n",
       "    </tr>\n",
       "    <tr>\n",
       "      <th id=\"T_b1241_level0_row10\" class=\"row_heading level0 row10\" >Mean</th>\n",
       "      <td id=\"T_b1241_row10_col0\" class=\"data row10 col0\" >0.8693</td>\n",
       "      <td id=\"T_b1241_row10_col1\" class=\"data row10 col1\" >0.9344</td>\n",
       "      <td id=\"T_b1241_row10_col2\" class=\"data row10 col2\" >0.8638</td>\n",
       "      <td id=\"T_b1241_row10_col3\" class=\"data row10 col3\" >0.8591</td>\n",
       "      <td id=\"T_b1241_row10_col4\" class=\"data row10 col4\" >0.8601</td>\n",
       "      <td id=\"T_b1241_row10_col5\" class=\"data row10 col5\" >0.7375</td>\n",
       "      <td id=\"T_b1241_row10_col6\" class=\"data row10 col6\" >0.7394</td>\n",
       "    </tr>\n",
       "    <tr>\n",
       "      <th id=\"T_b1241_level0_row11\" class=\"row_heading level0 row11\" >Std</th>\n",
       "      <td id=\"T_b1241_row11_col0\" class=\"data row11 col0\" >0.0334</td>\n",
       "      <td id=\"T_b1241_row11_col1\" class=\"data row11 col1\" >0.0218</td>\n",
       "      <td id=\"T_b1241_row11_col2\" class=\"data row11 col2\" >0.0400</td>\n",
       "      <td id=\"T_b1241_row11_col3\" class=\"data row11 col3\" >0.0536</td>\n",
       "      <td id=\"T_b1241_row11_col4\" class=\"data row11 col4\" >0.0335</td>\n",
       "      <td id=\"T_b1241_row11_col5\" class=\"data row11 col5\" >0.0664</td>\n",
       "      <td id=\"T_b1241_row11_col6\" class=\"data row11 col6\" >0.0663</td>\n",
       "    </tr>\n",
       "  </tbody>\n",
       "</table>\n"
      ],
      "text/plain": [
       "<pandas.io.formats.style.Styler at 0x267161391e0>"
      ]
     },
     "metadata": {},
     "output_type": "display_data"
    },
    {
     "data": {
      "text/html": [],
      "text/plain": [
       "<IPython.core.display.HTML object>"
      ]
     },
     "metadata": {},
     "output_type": "display_data"
    },
    {
     "name": "stdout",
     "output_type": "stream",
     "text": [
      "Fitting 10 folds for each of 10 candidates, totalling 100 fits\n",
      "Original model was better than the tuned model, hence it will be returned. NOTE: The display metrics are for the tuned model (not the original one).\n"
     ]
    }
   ],
   "source": [
    "best = compare_models(sort='AUC', include=['rf'])\n",
    "#tuned_model = [tune_model(i) for i in best]\n",
    "tuned_model = tune_model(best, optimize='AUC', fold=10)"
   ]
  },
  {
   "cell_type": "code",
   "execution_count": 86,
   "metadata": {},
   "outputs": [
    {
     "data": {
      "application/vnd.jupyter.widget-view+json": {
       "model_id": "462cf277eedf4b23b62592915080c20f",
       "version_major": 2,
       "version_minor": 0
      },
      "text/plain": [
       "interactive(children=(ToggleButtons(description='Plot Type:', icons=('',), options=(('Pipeline Plot', 'pipelin…"
      ]
     },
     "metadata": {},
     "output_type": "display_data"
    }
   ],
   "source": [
    "evaluate_model(tuned_model)"
   ]
  },
  {
   "cell_type": "code",
   "execution_count": 115,
   "metadata": {},
   "outputs": [
    {
     "data": {
      "text/plain": [
       "{'bootstrap': True,\n",
       " 'ccp_alpha': 0.0,\n",
       " 'class_weight': None,\n",
       " 'criterion': 'gini',\n",
       " 'max_depth': None,\n",
       " 'max_features': 'sqrt',\n",
       " 'max_leaf_nodes': None,\n",
       " 'max_samples': None,\n",
       " 'min_impurity_decrease': 0.0,\n",
       " 'min_samples_leaf': 1,\n",
       " 'min_samples_split': 2,\n",
       " 'min_weight_fraction_leaf': 0.0,\n",
       " 'monotonic_cst': None,\n",
       " 'n_estimators': 100,\n",
       " 'n_jobs': -1,\n",
       " 'oob_score': False,\n",
       " 'random_state': 42,\n",
       " 'verbose': 0,\n",
       " 'warm_start': False}"
      ]
     },
     "execution_count": 115,
     "metadata": {},
     "output_type": "execute_result"
    }
   ],
   "source": [
    "best_params = tuned_model.get_params()\n",
    "best_params"
   ]
  },
  {
   "cell_type": "markdown",
   "metadata": {},
   "source": [
    "### **GridSearchCV**"
   ]
  },
  {
   "cell_type": "markdown",
   "metadata": {},
   "source": [
    "그리드 서치(Grid Search)는 사용자가 정의한 하이퍼 파라미터들의 가능한 모든 조합을 시스템적으로 탐색하여, 모델의 성능을 최대화하는 하이퍼 파라미터 조합을 찾습니다.\n",
    "\n",
    "이 과정은 크게 아래와 같은 단계로 이루어집니다.\n",
    "\n",
    "1. 하이퍼 파라미터 그리드 설정\n",
    "\n",
    "사용자는 탐색할 하이퍼 파라미터와 각 하이퍼 파라미터의 범위 또는 가능한 값들을 명시적으로 정의합니다.\n",
    "이 과정에서 생성된 모든 가능한 하이퍼 파라미터 조합이 \"그리드\"를 형성합니다.\n",
    "\n",
    "2. 모델 학습\n",
    "\n",
    "각각의 하이퍼 파라미터에 대해 실험하고자 하는 값들의 리스트를 저으이하고, 이 리스트들의 가능한 모든 조합을 만들어 각 조합에 대해 모델을 학습시킨 후, 성능을 평가합니다.\n",
    "\n",
    "3. 최적의 하이퍼 파라미터 선택\n",
    "\n",
    "모든 조합의 성능을 평가한 후, 가장 좋은 성능을 보인 하이퍼 파라미터의 조합을 최적의 설정으로 선택합니다.\n",
    "\n",
    "- 장점\n",
    "\n",
    "가능한 모든 조합을 탐색하기 때문에 설정된 범위 내에서 최적의 하이퍼 파라미터 조합을 놓치지 않고 찾을 수 있습니다.\n",
    "구현이 비교적 간단하며, 복잡한 최적화 알고리즘이 필요 없습니다.\n",
    "\n",
    "- 단점\n",
    "\n",
    "모든 조합을 시도하기 때문에 하이퍼 파라미터의 수나 범위가 클 경우 계산 비용이 매우 높아집니다.\n",
    "모든 조합을 무조건적으로 탐색하기 때문에 중요하지 않은 파라미터에 대한 탐색에도 많은 시간을 소비할 수 있습니다.\n",
    "본 베이스라인에서는 Random Forest의 하이퍼 파라미터 튜닝을 위해 GridSearchCV를 사용합니다.\n",
    "\n",
    "**GridSearch**\n",
    "\n",
    "교차 검증을 사용하지 않고, 모델 학습데이터에 대해서만 평가하기 때문에 과적합(overfitting) 가능성이 높습니다.\n",
    "\n",
    "**GridSearchCV**\n",
    "\n",
    "교차 검증을 사용하여 여러 개의 서로 다른 데이터 폴드에 대해 학습하고 평가하여 보다 안정적인 성능 평가 결과를 얻을 수 있습니다."
   ]
  },
  {
   "cell_type": "code",
   "execution_count": 29,
   "metadata": {},
   "outputs": [],
   "source": [
    "X_train = train_resampled.drop(['person_id', 'login'], axis=1)\n",
    "y_train = train_resampled['login']"
   ]
  },
  {
   "cell_type": "code",
   "execution_count": null,
   "metadata": {},
   "outputs": [],
   "source": [
    "# GridSearchCV를 위한 하이퍼파라미터 설정\n",
    "param_search_space = {\n",
    "    'n_estimators': [100, 120, 150, 200, 300], #10 ~ 1000 사이의 양의 정수\n",
    "    'criterion' : ['gini', 'entropy'],\n",
    "    'max_depth': [10, 30, 50],\n",
    "    'min_samples_split': [2, 5, 10], # 2 이상의 정수 또는 0과 1 사이의 실수\n",
    "    'min_samples_leaf': [1, 4, 5], # 1 이상의 정수 또는 0과 0.5 사이의 실수\n",
    "    'min_weight_fraction_leaf': [0.1, 0.3, 0.4],  # 0.0에서 0.5 사이의 실수\n",
    "    'max_features': ['auto', 'sqrt', 'log2', None], # 'auto', 'sqrt', 'log2', None 또는 양의 정수/실수\n",
    "    #'max_leaf_nodes' : [],\n",
    "    #'min_impurity_decrease' : [],\n",
    "    'bootstrap' : [True, False]\n",
    "}"
   ]
  },
  {
   "cell_type": "code",
   "execution_count": 19,
   "metadata": {},
   "outputs": [
    {
     "name": "stdout",
     "output_type": "stream",
     "text": [
      "Fitting 3 folds for each of 6480 candidates, totalling 19440 fits\n"
     ]
    },
    {
     "ename": "KeyboardInterrupt",
     "evalue": "",
     "output_type": "error",
     "traceback": [
      "\u001b[1;31m---------------------------------------------------------------------------\u001b[0m",
      "\u001b[1;31mKeyboardInterrupt\u001b[0m                         Traceback (most recent call last)",
      "Cell \u001b[1;32mIn[19], line 11\u001b[0m\n\u001b[0;32m      8\u001b[0m grid_search \u001b[38;5;241m=\u001b[39m GridSearchCV(estimator\u001b[38;5;241m=\u001b[39mrf, param_grid\u001b[38;5;241m=\u001b[39mparam_search_space, cv\u001b[38;5;241m=\u001b[39m\u001b[38;5;241m3\u001b[39m, n_jobs\u001b[38;5;241m=\u001b[39m\u001b[38;5;241m-\u001b[39m\u001b[38;5;241m1\u001b[39m, verbose\u001b[38;5;241m=\u001b[39m\u001b[38;5;241m2\u001b[39m, scoring\u001b[38;5;241m=\u001b[39m\u001b[38;5;124m'\u001b[39m\u001b[38;5;124mroc_auc\u001b[39m\u001b[38;5;124m'\u001b[39m)\n\u001b[0;32m     10\u001b[0m \u001b[38;5;66;03m# GridSearchCV를 사용한 학습\u001b[39;00m\n\u001b[1;32m---> 11\u001b[0m \u001b[43mgrid_search\u001b[49m\u001b[38;5;241;43m.\u001b[39;49m\u001b[43mfit\u001b[49m\u001b[43m(\u001b[49m\u001b[43mX_train\u001b[49m\u001b[43m,\u001b[49m\u001b[43m \u001b[49m\u001b[43my_train\u001b[49m\u001b[43m)\u001b[49m\n\u001b[0;32m     13\u001b[0m \u001b[38;5;66;03m# 최적의 파라미터와 최고 점수 출력\u001b[39;00m\n\u001b[0;32m     14\u001b[0m best_params \u001b[38;5;241m=\u001b[39m grid_search\u001b[38;5;241m.\u001b[39mbest_params_\n",
      "File \u001b[1;32mc:\\vscode\\project\\pycaret환경\\pycaret\\lib\\site-packages\\sklearn\\base.py:1474\u001b[0m, in \u001b[0;36m_fit_context.<locals>.decorator.<locals>.wrapper\u001b[1;34m(estimator, *args, **kwargs)\u001b[0m\n\u001b[0;32m   1467\u001b[0m     estimator\u001b[38;5;241m.\u001b[39m_validate_params()\n\u001b[0;32m   1469\u001b[0m \u001b[38;5;28;01mwith\u001b[39;00m config_context(\n\u001b[0;32m   1470\u001b[0m     skip_parameter_validation\u001b[38;5;241m=\u001b[39m(\n\u001b[0;32m   1471\u001b[0m         prefer_skip_nested_validation \u001b[38;5;129;01mor\u001b[39;00m global_skip_validation\n\u001b[0;32m   1472\u001b[0m     )\n\u001b[0;32m   1473\u001b[0m ):\n\u001b[1;32m-> 1474\u001b[0m     \u001b[38;5;28;01mreturn\u001b[39;00m fit_method(estimator, \u001b[38;5;241m*\u001b[39margs, \u001b[38;5;241m*\u001b[39m\u001b[38;5;241m*\u001b[39mkwargs)\n",
      "File \u001b[1;32mc:\\vscode\\project\\pycaret환경\\pycaret\\lib\\site-packages\\sklearn\\model_selection\\_search.py:970\u001b[0m, in \u001b[0;36mBaseSearchCV.fit\u001b[1;34m(self, X, y, **params)\u001b[0m\n\u001b[0;32m    964\u001b[0m     results \u001b[38;5;241m=\u001b[39m \u001b[38;5;28mself\u001b[39m\u001b[38;5;241m.\u001b[39m_format_results(\n\u001b[0;32m    965\u001b[0m         all_candidate_params, n_splits, all_out, all_more_results\n\u001b[0;32m    966\u001b[0m     )\n\u001b[0;32m    968\u001b[0m     \u001b[38;5;28;01mreturn\u001b[39;00m results\n\u001b[1;32m--> 970\u001b[0m \u001b[38;5;28;43mself\u001b[39;49m\u001b[38;5;241;43m.\u001b[39;49m\u001b[43m_run_search\u001b[49m\u001b[43m(\u001b[49m\u001b[43mevaluate_candidates\u001b[49m\u001b[43m)\u001b[49m\n\u001b[0;32m    972\u001b[0m \u001b[38;5;66;03m# multimetric is determined here because in the case of a callable\u001b[39;00m\n\u001b[0;32m    973\u001b[0m \u001b[38;5;66;03m# self.scoring the return type is only known after calling\u001b[39;00m\n\u001b[0;32m    974\u001b[0m first_test_score \u001b[38;5;241m=\u001b[39m all_out[\u001b[38;5;241m0\u001b[39m][\u001b[38;5;124m\"\u001b[39m\u001b[38;5;124mtest_scores\u001b[39m\u001b[38;5;124m\"\u001b[39m]\n",
      "File \u001b[1;32mc:\\vscode\\project\\pycaret환경\\pycaret\\lib\\site-packages\\sklearn\\model_selection\\_search.py:1527\u001b[0m, in \u001b[0;36mGridSearchCV._run_search\u001b[1;34m(self, evaluate_candidates)\u001b[0m\n\u001b[0;32m   1525\u001b[0m \u001b[38;5;28;01mdef\u001b[39;00m \u001b[38;5;21m_run_search\u001b[39m(\u001b[38;5;28mself\u001b[39m, evaluate_candidates):\n\u001b[0;32m   1526\u001b[0m \u001b[38;5;250m    \u001b[39m\u001b[38;5;124;03m\"\"\"Search all candidates in param_grid\"\"\"\u001b[39;00m\n\u001b[1;32m-> 1527\u001b[0m     \u001b[43mevaluate_candidates\u001b[49m\u001b[43m(\u001b[49m\u001b[43mParameterGrid\u001b[49m\u001b[43m(\u001b[49m\u001b[38;5;28;43mself\u001b[39;49m\u001b[38;5;241;43m.\u001b[39;49m\u001b[43mparam_grid\u001b[49m\u001b[43m)\u001b[49m\u001b[43m)\u001b[49m\n",
      "File \u001b[1;32mc:\\vscode\\project\\pycaret환경\\pycaret\\lib\\site-packages\\sklearn\\model_selection\\_search.py:916\u001b[0m, in \u001b[0;36mBaseSearchCV.fit.<locals>.evaluate_candidates\u001b[1;34m(candidate_params, cv, more_results)\u001b[0m\n\u001b[0;32m    908\u001b[0m \u001b[38;5;28;01mif\u001b[39;00m \u001b[38;5;28mself\u001b[39m\u001b[38;5;241m.\u001b[39mverbose \u001b[38;5;241m>\u001b[39m \u001b[38;5;241m0\u001b[39m:\n\u001b[0;32m    909\u001b[0m     \u001b[38;5;28mprint\u001b[39m(\n\u001b[0;32m    910\u001b[0m         \u001b[38;5;124m\"\u001b[39m\u001b[38;5;124mFitting \u001b[39m\u001b[38;5;132;01m{0}\u001b[39;00m\u001b[38;5;124m folds for each of \u001b[39m\u001b[38;5;132;01m{1}\u001b[39;00m\u001b[38;5;124m candidates,\u001b[39m\u001b[38;5;124m\"\u001b[39m\n\u001b[0;32m    911\u001b[0m         \u001b[38;5;124m\"\u001b[39m\u001b[38;5;124m totalling \u001b[39m\u001b[38;5;132;01m{2}\u001b[39;00m\u001b[38;5;124m fits\u001b[39m\u001b[38;5;124m\"\u001b[39m\u001b[38;5;241m.\u001b[39mformat(\n\u001b[0;32m    912\u001b[0m             n_splits, n_candidates, n_candidates \u001b[38;5;241m*\u001b[39m n_splits\n\u001b[0;32m    913\u001b[0m         )\n\u001b[0;32m    914\u001b[0m     )\n\u001b[1;32m--> 916\u001b[0m out \u001b[38;5;241m=\u001b[39m \u001b[43mparallel\u001b[49m\u001b[43m(\u001b[49m\n\u001b[0;32m    917\u001b[0m \u001b[43m    \u001b[49m\u001b[43mdelayed\u001b[49m\u001b[43m(\u001b[49m\u001b[43m_fit_and_score\u001b[49m\u001b[43m)\u001b[49m\u001b[43m(\u001b[49m\n\u001b[0;32m    918\u001b[0m \u001b[43m        \u001b[49m\u001b[43mclone\u001b[49m\u001b[43m(\u001b[49m\u001b[43mbase_estimator\u001b[49m\u001b[43m)\u001b[49m\u001b[43m,\u001b[49m\n\u001b[0;32m    919\u001b[0m \u001b[43m        \u001b[49m\u001b[43mX\u001b[49m\u001b[43m,\u001b[49m\n\u001b[0;32m    920\u001b[0m \u001b[43m        \u001b[49m\u001b[43my\u001b[49m\u001b[43m,\u001b[49m\n\u001b[0;32m    921\u001b[0m \u001b[43m        \u001b[49m\u001b[43mtrain\u001b[49m\u001b[38;5;241;43m=\u001b[39;49m\u001b[43mtrain\u001b[49m\u001b[43m,\u001b[49m\n\u001b[0;32m    922\u001b[0m \u001b[43m        \u001b[49m\u001b[43mtest\u001b[49m\u001b[38;5;241;43m=\u001b[39;49m\u001b[43mtest\u001b[49m\u001b[43m,\u001b[49m\n\u001b[0;32m    923\u001b[0m \u001b[43m        \u001b[49m\u001b[43mparameters\u001b[49m\u001b[38;5;241;43m=\u001b[39;49m\u001b[43mparameters\u001b[49m\u001b[43m,\u001b[49m\n\u001b[0;32m    924\u001b[0m \u001b[43m        \u001b[49m\u001b[43msplit_progress\u001b[49m\u001b[38;5;241;43m=\u001b[39;49m\u001b[43m(\u001b[49m\u001b[43msplit_idx\u001b[49m\u001b[43m,\u001b[49m\u001b[43m \u001b[49m\u001b[43mn_splits\u001b[49m\u001b[43m)\u001b[49m\u001b[43m,\u001b[49m\n\u001b[0;32m    925\u001b[0m \u001b[43m        \u001b[49m\u001b[43mcandidate_progress\u001b[49m\u001b[38;5;241;43m=\u001b[39;49m\u001b[43m(\u001b[49m\u001b[43mcand_idx\u001b[49m\u001b[43m,\u001b[49m\u001b[43m \u001b[49m\u001b[43mn_candidates\u001b[49m\u001b[43m)\u001b[49m\u001b[43m,\u001b[49m\n\u001b[0;32m    926\u001b[0m \u001b[43m        \u001b[49m\u001b[38;5;241;43m*\u001b[39;49m\u001b[38;5;241;43m*\u001b[39;49m\u001b[43mfit_and_score_kwargs\u001b[49m\u001b[43m,\u001b[49m\n\u001b[0;32m    927\u001b[0m \u001b[43m    \u001b[49m\u001b[43m)\u001b[49m\n\u001b[0;32m    928\u001b[0m \u001b[43m    \u001b[49m\u001b[38;5;28;43;01mfor\u001b[39;49;00m\u001b[43m \u001b[49m\u001b[43m(\u001b[49m\u001b[43mcand_idx\u001b[49m\u001b[43m,\u001b[49m\u001b[43m \u001b[49m\u001b[43mparameters\u001b[49m\u001b[43m)\u001b[49m\u001b[43m,\u001b[49m\u001b[43m \u001b[49m\u001b[43m(\u001b[49m\u001b[43msplit_idx\u001b[49m\u001b[43m,\u001b[49m\u001b[43m \u001b[49m\u001b[43m(\u001b[49m\u001b[43mtrain\u001b[49m\u001b[43m,\u001b[49m\u001b[43m \u001b[49m\u001b[43mtest\u001b[49m\u001b[43m)\u001b[49m\u001b[43m)\u001b[49m\u001b[43m \u001b[49m\u001b[38;5;129;43;01min\u001b[39;49;00m\u001b[43m \u001b[49m\u001b[43mproduct\u001b[49m\u001b[43m(\u001b[49m\n\u001b[0;32m    929\u001b[0m \u001b[43m        \u001b[49m\u001b[38;5;28;43menumerate\u001b[39;49m\u001b[43m(\u001b[49m\u001b[43mcandidate_params\u001b[49m\u001b[43m)\u001b[49m\u001b[43m,\u001b[49m\n\u001b[0;32m    930\u001b[0m \u001b[43m        \u001b[49m\u001b[38;5;28;43menumerate\u001b[39;49m\u001b[43m(\u001b[49m\u001b[43mcv\u001b[49m\u001b[38;5;241;43m.\u001b[39;49m\u001b[43msplit\u001b[49m\u001b[43m(\u001b[49m\u001b[43mX\u001b[49m\u001b[43m,\u001b[49m\u001b[43m \u001b[49m\u001b[43my\u001b[49m\u001b[43m,\u001b[49m\u001b[43m \u001b[49m\u001b[38;5;241;43m*\u001b[39;49m\u001b[38;5;241;43m*\u001b[39;49m\u001b[43mrouted_params\u001b[49m\u001b[38;5;241;43m.\u001b[39;49m\u001b[43msplitter\u001b[49m\u001b[38;5;241;43m.\u001b[39;49m\u001b[43msplit\u001b[49m\u001b[43m)\u001b[49m\u001b[43m)\u001b[49m\u001b[43m,\u001b[49m\n\u001b[0;32m    931\u001b[0m \u001b[43m    \u001b[49m\u001b[43m)\u001b[49m\n\u001b[0;32m    932\u001b[0m \u001b[43m\u001b[49m\u001b[43m)\u001b[49m\n\u001b[0;32m    934\u001b[0m \u001b[38;5;28;01mif\u001b[39;00m \u001b[38;5;28mlen\u001b[39m(out) \u001b[38;5;241m<\u001b[39m \u001b[38;5;241m1\u001b[39m:\n\u001b[0;32m    935\u001b[0m     \u001b[38;5;28;01mraise\u001b[39;00m \u001b[38;5;167;01mValueError\u001b[39;00m(\n\u001b[0;32m    936\u001b[0m         \u001b[38;5;124m\"\u001b[39m\u001b[38;5;124mNo fits were performed. \u001b[39m\u001b[38;5;124m\"\u001b[39m\n\u001b[0;32m    937\u001b[0m         \u001b[38;5;124m\"\u001b[39m\u001b[38;5;124mWas the CV iterator empty? \u001b[39m\u001b[38;5;124m\"\u001b[39m\n\u001b[0;32m    938\u001b[0m         \u001b[38;5;124m\"\u001b[39m\u001b[38;5;124mWere there no candidates?\u001b[39m\u001b[38;5;124m\"\u001b[39m\n\u001b[0;32m    939\u001b[0m     )\n",
      "File \u001b[1;32mc:\\vscode\\project\\pycaret환경\\pycaret\\lib\\site-packages\\sklearn\\utils\\parallel.py:67\u001b[0m, in \u001b[0;36mParallel.__call__\u001b[1;34m(self, iterable)\u001b[0m\n\u001b[0;32m     62\u001b[0m config \u001b[38;5;241m=\u001b[39m get_config()\n\u001b[0;32m     63\u001b[0m iterable_with_config \u001b[38;5;241m=\u001b[39m (\n\u001b[0;32m     64\u001b[0m     (_with_config(delayed_func, config), args, kwargs)\n\u001b[0;32m     65\u001b[0m     \u001b[38;5;28;01mfor\u001b[39;00m delayed_func, args, kwargs \u001b[38;5;129;01min\u001b[39;00m iterable\n\u001b[0;32m     66\u001b[0m )\n\u001b[1;32m---> 67\u001b[0m \u001b[38;5;28;01mreturn\u001b[39;00m \u001b[38;5;28;43msuper\u001b[39;49m\u001b[43m(\u001b[49m\u001b[43m)\u001b[49m\u001b[38;5;241;43m.\u001b[39;49m\u001b[38;5;21;43m__call__\u001b[39;49m\u001b[43m(\u001b[49m\u001b[43miterable_with_config\u001b[49m\u001b[43m)\u001b[49m\n",
      "File \u001b[1;32mc:\\vscode\\project\\pycaret환경\\pycaret\\lib\\site-packages\\joblib\\parallel.py:1952\u001b[0m, in \u001b[0;36mParallel.__call__\u001b[1;34m(self, iterable)\u001b[0m\n\u001b[0;32m   1946\u001b[0m \u001b[38;5;66;03m# The first item from the output is blank, but it makes the interpreter\u001b[39;00m\n\u001b[0;32m   1947\u001b[0m \u001b[38;5;66;03m# progress until it enters the Try/Except block of the generator and\u001b[39;00m\n\u001b[0;32m   1948\u001b[0m \u001b[38;5;66;03m# reach the first `yield` statement. This starts the aynchronous\u001b[39;00m\n\u001b[0;32m   1949\u001b[0m \u001b[38;5;66;03m# dispatch of the tasks to the workers.\u001b[39;00m\n\u001b[0;32m   1950\u001b[0m \u001b[38;5;28mnext\u001b[39m(output)\n\u001b[1;32m-> 1952\u001b[0m \u001b[38;5;28;01mreturn\u001b[39;00m output \u001b[38;5;28;01mif\u001b[39;00m \u001b[38;5;28mself\u001b[39m\u001b[38;5;241m.\u001b[39mreturn_generator \u001b[38;5;28;01melse\u001b[39;00m \u001b[38;5;28;43mlist\u001b[39;49m\u001b[43m(\u001b[49m\u001b[43moutput\u001b[49m\u001b[43m)\u001b[49m\n",
      "File \u001b[1;32mc:\\vscode\\project\\pycaret환경\\pycaret\\lib\\site-packages\\joblib\\parallel.py:1595\u001b[0m, in \u001b[0;36mParallel._get_outputs\u001b[1;34m(self, iterator, pre_dispatch)\u001b[0m\n\u001b[0;32m   1592\u001b[0m     \u001b[38;5;28;01myield\u001b[39;00m\n\u001b[0;32m   1594\u001b[0m     \u001b[38;5;28;01mwith\u001b[39;00m \u001b[38;5;28mself\u001b[39m\u001b[38;5;241m.\u001b[39m_backend\u001b[38;5;241m.\u001b[39mretrieval_context():\n\u001b[1;32m-> 1595\u001b[0m         \u001b[38;5;28;01myield from\u001b[39;00m \u001b[38;5;28mself\u001b[39m\u001b[38;5;241m.\u001b[39m_retrieve()\n\u001b[0;32m   1597\u001b[0m \u001b[38;5;28;01mexcept\u001b[39;00m \u001b[38;5;167;01mGeneratorExit\u001b[39;00m:\n\u001b[0;32m   1598\u001b[0m     \u001b[38;5;66;03m# The generator has been garbage collected before being fully\u001b[39;00m\n\u001b[0;32m   1599\u001b[0m     \u001b[38;5;66;03m# consumed. This aborts the remaining tasks if possible and warn\u001b[39;00m\n\u001b[0;32m   1600\u001b[0m     \u001b[38;5;66;03m# the user if necessary.\u001b[39;00m\n\u001b[0;32m   1601\u001b[0m     \u001b[38;5;28mself\u001b[39m\u001b[38;5;241m.\u001b[39m_exception \u001b[38;5;241m=\u001b[39m \u001b[38;5;28;01mTrue\u001b[39;00m\n",
      "File \u001b[1;32mc:\\vscode\\project\\pycaret환경\\pycaret\\lib\\site-packages\\joblib\\parallel.py:1707\u001b[0m, in \u001b[0;36mParallel._retrieve\u001b[1;34m(self)\u001b[0m\n\u001b[0;32m   1702\u001b[0m \u001b[38;5;66;03m# If the next job is not ready for retrieval yet, we just wait for\u001b[39;00m\n\u001b[0;32m   1703\u001b[0m \u001b[38;5;66;03m# async callbacks to progress.\u001b[39;00m\n\u001b[0;32m   1704\u001b[0m \u001b[38;5;28;01mif\u001b[39;00m ((\u001b[38;5;28mlen\u001b[39m(\u001b[38;5;28mself\u001b[39m\u001b[38;5;241m.\u001b[39m_jobs) \u001b[38;5;241m==\u001b[39m \u001b[38;5;241m0\u001b[39m) \u001b[38;5;129;01mor\u001b[39;00m\n\u001b[0;32m   1705\u001b[0m     (\u001b[38;5;28mself\u001b[39m\u001b[38;5;241m.\u001b[39m_jobs[\u001b[38;5;241m0\u001b[39m]\u001b[38;5;241m.\u001b[39mget_status(\n\u001b[0;32m   1706\u001b[0m         timeout\u001b[38;5;241m=\u001b[39m\u001b[38;5;28mself\u001b[39m\u001b[38;5;241m.\u001b[39mtimeout) \u001b[38;5;241m==\u001b[39m TASK_PENDING)):\n\u001b[1;32m-> 1707\u001b[0m     \u001b[43mtime\u001b[49m\u001b[38;5;241;43m.\u001b[39;49m\u001b[43msleep\u001b[49m\u001b[43m(\u001b[49m\u001b[38;5;241;43m0.01\u001b[39;49m\u001b[43m)\u001b[49m\n\u001b[0;32m   1708\u001b[0m     \u001b[38;5;28;01mcontinue\u001b[39;00m\n\u001b[0;32m   1710\u001b[0m \u001b[38;5;66;03m# We need to be careful: the job list can be filling up as\u001b[39;00m\n\u001b[0;32m   1711\u001b[0m \u001b[38;5;66;03m# we empty it and Python list are not thread-safe by\u001b[39;00m\n\u001b[0;32m   1712\u001b[0m \u001b[38;5;66;03m# default hence the use of the lock\u001b[39;00m\n",
      "\u001b[1;31mKeyboardInterrupt\u001b[0m: "
     ]
    }
   ],
   "source": [
    "# RandomForestClassifier 객체 생성\n",
    "rf = RandomForestClassifier(random_state=seed)\n",
    "\n",
    "# GridSearchCV 객체 생성\n",
    "grid_search = GridSearchCV(estimator=rf, param_grid=param_search_space, cv=3, n_jobs=-1, verbose=2, scoring='roc_auc')\n",
    "\n",
    "# GridSearchCV를 사용한 학습\n",
    "grid_search.fit(X_train, y_train)\n",
    "\n",
    "# 최적의 파라미터와 최고 점수 출력\n",
    "best_params = grid_search.best_params_\n",
    "best_score = grid_search.best_score_\n",
    "\n",
    "best_params"
   ]
  },
  {
   "cell_type": "markdown",
   "metadata": {},
   "source": [
    "### **RandomSearch**"
   ]
  },
  {
   "cell_type": "code",
   "execution_count": null,
   "metadata": {},
   "outputs": [],
   "source": [
    "param_random_search = {\n",
    "    'n_estimators': list(np.linspace(10, 1000, 500, dtype = int)), #10 ~ 1000 사이의 양의 정수\n",
    "    'criterion' : ['gini', 'entropy'],\n",
    "    'max_depth': list(np.linspace(10, 1500, 100, dtype = int)) + [None],\n",
    "    'min_samples_split': list(np.linspace(2, 20, dtype = 'float64')), # 2 이상의 정수 또는 0과 1 사이의 실수\n",
    "    'min_samples_leaf': list(np.linspace(1, 20, dtype = 'float64')), # 1 이상의 정수 또는 0과 0.5 사이의 실수\n",
    "    'min_weight_fraction_leaf': [0.1, 0.2, 0.3, 0.4, 0.5],  # 0.0에서 0.5 사이의 실수\n",
    "    'max_features': ['auto', 'sqrt', 'log2', None], # 'auto', 'sqrt', 'log2', None 또는 양의 정수/실수\n",
    "    'max_leaf_nodes' : randint(low=0, high=100),\n",
    "    'min_impurity_decrease' : randint(low=0, high=100),\n",
    "    'bootstrap' : [True, False]\n",
    "}"
   ]
  },
  {
   "cell_type": "code",
   "execution_count": 124,
   "metadata": {},
   "outputs": [
    {
     "name": "stdout",
     "output_type": "stream",
     "text": [
      "Fitting 10 folds for each of 80 candidates, totalling 800 fits\n"
     ]
    },
    {
     "data": {
      "text/plain": [
       "{'bootstrap': True,\n",
       " 'criterion': 'entropy',\n",
       " 'max_depth': 341,\n",
       " 'max_features': 'sqrt',\n",
       " 'max_leaf_nodes': 87,\n",
       " 'min_impurity_decrease': 36,\n",
       " 'min_samples_leaf': 14,\n",
       " 'min_samples_split': 17,\n",
       " 'min_weight_fraction_leaf': 0.3,\n",
       " 'n_estimators': 77}"
      ]
     },
     "execution_count": 124,
     "metadata": {},
     "output_type": "execute_result"
    }
   ],
   "source": [
    "rf = RandomForestClassifier(random_state=seed)\n",
    "random_search = RandomizedSearchCV(estimator = rf, param_distributions = param_random_search, n_iter = 80, \n",
    "                               cv = 10, verbose= 3, random_state= seed, n_jobs = -1)\n",
    "random_search.fit(X_train,y_train)\n",
    "\n",
    "# 최적의 파라미터와 최고 점수 출력\n",
    "best_params = random_search.best_params_\n",
    "best_score = random_search.best_score_\n",
    "\n",
    "best_params"
   ]
  },
  {
   "cell_type": "code",
   "execution_count": 126,
   "metadata": {},
   "outputs": [
    {
     "data": {
      "text/plain": [
       "{'bootstrap': True,\n",
       " 'criterion': 'entropy',\n",
       " 'max_depth': 341,\n",
       " 'max_features': 'sqrt',\n",
       " 'max_leaf_nodes': 87,\n",
       " 'min_impurity_decrease': 36,\n",
       " 'min_samples_leaf': 14,\n",
       " 'min_samples_split': 17,\n",
       " 'min_weight_fraction_leaf': 0.3,\n",
       " 'n_estimators': 77}"
      ]
     },
     "execution_count": 126,
     "metadata": {},
     "output_type": "execute_result"
    }
   ],
   "source": [
    "best_params"
   ]
  },
  {
   "cell_type": "markdown",
   "metadata": {},
   "source": [
    "#### **Optuna**"
   ]
  },
  {
   "cell_type": "code",
   "execution_count": 58,
   "metadata": {},
   "outputs": [
    {
     "name": "stderr",
     "output_type": "stream",
     "text": [
      "[I 2024-03-29 21:38:23,782] A new study created in memory with name: no-name-45cfdbef-5228-44cf-ad1b-153ab5948c4b\n",
      "[I 2024-03-29 21:38:27,442] Trial 0 finished with value: 0.5 and parameters: {'n_estimators': 352, 'criterion': 'gini', 'max_depth': 193, 'min_samples_split': 58, 'min_samples_leaf': 18, 'min_weight_fraction_leaf': 0.3221358273742885, 'max_features': 1, 'max_leaf_nodes': 91, 'min_impurity_decrease': 64, 'bootstrap': False}. Best is trial 0 with value: 0.5.\n",
      "[I 2024-03-29 21:38:31,984] Trial 1 finished with value: 0.5 and parameters: {'n_estimators': 348, 'criterion': 'gini', 'max_depth': 133, 'min_samples_split': 30, 'min_samples_leaf': 80, 'min_weight_fraction_leaf': 0.13693071285601593, 'max_features': 20, 'max_leaf_nodes': 29, 'min_impurity_decrease': 40, 'bootstrap': False}. Best is trial 0 with value: 0.5.\n",
      "[I 2024-03-29 21:38:35,364] Trial 2 finished with value: 0.5 and parameters: {'n_estimators': 258, 'criterion': 'gini', 'max_depth': 84, 'min_samples_split': 75, 'min_samples_leaf': 4, 'min_weight_fraction_leaf': 0.4387748484821529, 'max_features': 25, 'max_leaf_nodes': 57, 'min_impurity_decrease': 99, 'bootstrap': False}. Best is trial 0 with value: 0.5.\n",
      "[I 2024-03-29 21:38:37,595] Trial 3 finished with value: 0.5 and parameters: {'n_estimators': 168, 'criterion': 'entropy', 'max_depth': 138, 'min_samples_split': 41, 'min_samples_leaf': 22, 'min_weight_fraction_leaf': 0.47836987789538826, 'max_features': 52, 'max_leaf_nodes': 3, 'min_impurity_decrease': 46, 'bootstrap': False}. Best is trial 0 with value: 0.5.\n",
      "[I 2024-03-29 21:38:41,172] Trial 4 finished with value: 0.5 and parameters: {'n_estimators': 265, 'criterion': 'entropy', 'max_depth': 10, 'min_samples_split': 2, 'min_samples_leaf': 43, 'min_weight_fraction_leaf': 0.20233681295952727, 'max_features': 50, 'max_leaf_nodes': 91, 'min_impurity_decrease': 5, 'bootstrap': False}. Best is trial 0 with value: 0.5.\n",
      "[I 2024-03-29 21:38:43,772] Trial 5 finished with value: 0.5 and parameters: {'n_estimators': 164, 'criterion': 'gini', 'max_depth': 80, 'min_samples_split': 6, 'min_samples_leaf': 61, 'min_weight_fraction_leaf': 0.02662052453356495, 'max_features': 42, 'max_leaf_nodes': 74, 'min_impurity_decrease': 61, 'bootstrap': True}. Best is trial 0 with value: 0.5.\n",
      "[I 2024-03-29 21:38:45,729] Trial 6 finished with value: 0.5 and parameters: {'n_estimators': 149, 'criterion': 'gini', 'max_depth': 51, 'min_samples_split': 32, 'min_samples_leaf': 18, 'min_weight_fraction_leaf': 0.3387459109760103, 'max_features': 79, 'max_leaf_nodes': 51, 'min_impurity_decrease': 50, 'bootstrap': False}. Best is trial 0 with value: 0.5.\n",
      "[I 2024-03-29 21:38:51,101] Trial 7 finished with value: 0.5 and parameters: {'n_estimators': 359, 'criterion': 'gini', 'max_depth': 129, 'min_samples_split': 28, 'min_samples_leaf': 71, 'min_weight_fraction_leaf': 0.07834023151986108, 'max_features': 44, 'max_leaf_nodes': 4, 'min_impurity_decrease': 50, 'bootstrap': True}. Best is trial 0 with value: 0.5.\n",
      "[I 2024-03-29 21:38:56,430] Trial 8 finished with value: 0.5 and parameters: {'n_estimators': 373, 'criterion': 'entropy', 'max_depth': 158, 'min_samples_split': 89, 'min_samples_leaf': 9, 'min_weight_fraction_leaf': 0.3399742670803113, 'max_features': 36, 'max_leaf_nodes': 91, 'min_impurity_decrease': 68, 'bootstrap': True}. Best is trial 0 with value: 0.5.\n",
      "[I 2024-03-29 21:39:00,266] Trial 9 finished with value: 0.5 and parameters: {'n_estimators': 242, 'criterion': 'entropy', 'max_depth': 121, 'min_samples_split': 19, 'min_samples_leaf': 95, 'min_weight_fraction_leaf': 0.07526644098627966, 'max_features': 97, 'max_leaf_nodes': 8, 'min_impurity_decrease': 6, 'bootstrap': True}. Best is trial 0 with value: 0.5.\n",
      "[I 2024-03-29 21:39:04,872] Trial 10 finished with value: 0.5 and parameters: {'n_estimators': 490, 'criterion': 'gini', 'max_depth': 194, 'min_samples_split': 59, 'min_samples_leaf': 38, 'min_weight_fraction_leaf': 0.2814876355172931, 'max_features': 1, 'max_leaf_nodes': 98, 'min_impurity_decrease': 92, 'bootstrap': False}. Best is trial 0 with value: 0.5.\n",
      "[I 2024-03-29 21:39:08,872] Trial 11 finished with value: 0.5 and parameters: {'n_estimators': 379, 'criterion': 'gini', 'max_depth': 200, 'min_samples_split': 54, 'min_samples_leaf': 86, 'min_weight_fraction_leaf': 0.1722242518957134, 'max_features': 3, 'max_leaf_nodes': 34, 'min_impurity_decrease': 28, 'bootstrap': False}. Best is trial 0 with value: 0.5.\n",
      "[I 2024-03-29 21:39:14,904] Trial 12 finished with value: 0.5 and parameters: {'n_estimators': 447, 'criterion': 'gini', 'max_depth': 172, 'min_samples_split': 70, 'min_samples_leaf': 69, 'min_weight_fraction_leaf': 0.17750575036890895, 'max_features': 18, 'max_leaf_nodes': 29, 'min_impurity_decrease': 77, 'bootstrap': False}. Best is trial 0 with value: 0.5.\n",
      "[I 2024-03-29 21:39:19,444] Trial 13 finished with value: 0.5 and parameters: {'n_estimators': 326, 'criterion': 'gini', 'max_depth': 164, 'min_samples_split': 45, 'min_samples_leaf': 31, 'min_weight_fraction_leaf': 0.2684176035397292, 'max_features': 14, 'max_leaf_nodes': 30, 'min_impurity_decrease': 30, 'bootstrap': False}. Best is trial 0 with value: 0.5.\n",
      "[I 2024-03-29 21:39:24,782] Trial 14 finished with value: 0.5 and parameters: {'n_estimators': 418, 'criterion': 'gini', 'max_depth': 104, 'min_samples_split': 65, 'min_samples_leaf': 54, 'min_weight_fraction_leaf': 0.36914086197081286, 'max_features': 25, 'max_leaf_nodes': 69, 'min_impurity_decrease': 32, 'bootstrap': False}. Best is trial 0 with value: 0.5.\n",
      "[I 2024-03-29 21:39:28,996] Trial 15 finished with value: 0.5 and parameters: {'n_estimators': 311, 'criterion': 'gini', 'max_depth': 152, 'min_samples_split': 99, 'min_samples_leaf': 85, 'min_weight_fraction_leaf': 0.1246373187394475, 'max_features': 11, 'max_leaf_nodes': 44, 'min_impurity_decrease': 80, 'bootstrap': False}. Best is trial 0 with value: 0.5.\n",
      "[I 2024-03-29 21:39:31,912] Trial 16 finished with value: 0.5 and parameters: {'n_estimators': 214, 'criterion': 'gini', 'max_depth': 182, 'min_samples_split': 21, 'min_samples_leaf': 77, 'min_weight_fraction_leaf': 0.2400075150486204, 'max_features': 64, 'max_leaf_nodes': 74, 'min_impurity_decrease': 65, 'bootstrap': False}. Best is trial 0 with value: 0.5.\n",
      "[I 2024-03-29 21:39:37,704] Trial 17 finished with value: 0.5 and parameters: {'n_estimators': 414, 'criterion': 'gini', 'max_depth': 48, 'min_samples_split': 39, 'min_samples_leaf': 99, 'min_weight_fraction_leaf': 0.39682993884676265, 'max_features': 29, 'max_leaf_nodes': 19, 'min_impurity_decrease': 39, 'bootstrap': False}. Best is trial 0 with value: 0.5.\n",
      "[I 2024-03-29 21:39:42,827] Trial 18 finished with value: 0.5 and parameters: {'n_estimators': 330, 'criterion': 'entropy', 'max_depth': 111, 'min_samples_split': 78, 'min_samples_leaf': 54, 'min_weight_fraction_leaf': 0.3109953325282245, 'max_features': 10, 'max_leaf_nodes': 18, 'min_impurity_decrease': 17, 'bootstrap': True}. Best is trial 0 with value: 0.5.\n",
      "[I 2024-03-29 21:39:49,641] Trial 19 finished with value: 0.5 and parameters: {'n_estimators': 492, 'criterion': 'gini', 'max_depth': 144, 'min_samples_split': 52, 'min_samples_leaf': 26, 'min_weight_fraction_leaf': 0.11957816425324724, 'max_features': 62, 'max_leaf_nodes': 66, 'min_impurity_decrease': 57, 'bootstrap': False}. Best is trial 0 with value: 0.5.\n",
      "[I 2024-03-29 21:39:53,316] Trial 20 finished with value: 0.5 and parameters: {'n_estimators': 289, 'criterion': 'gini', 'max_depth': 86, 'min_samples_split': 14, 'min_samples_leaf': 43, 'min_weight_fraction_leaf': 0.001357536227137468, 'max_features': 33, 'max_leaf_nodes': 38, 'min_impurity_decrease': 76, 'bootstrap': False}. Best is trial 0 with value: 0.5.\n",
      "[I 2024-03-29 21:39:54,802] Trial 21 finished with value: 0.5 and parameters: {'n_estimators': 100, 'criterion': 'gini', 'max_depth': 66, 'min_samples_split': 79, 'min_samples_leaf': 3, 'min_weight_fraction_leaf': 0.4417421687945504, 'max_features': 22, 'max_leaf_nodes': 59, 'min_impurity_decrease': 94, 'bootstrap': False}. Best is trial 0 with value: 0.5.\n",
      "[I 2024-03-29 21:39:57,047] Trial 22 finished with value: 0.5 and parameters: {'n_estimators': 239, 'criterion': 'gini', 'max_depth': 87, 'min_samples_split': 72, 'min_samples_leaf': 11, 'min_weight_fraction_leaf': 0.41143592912694177, 'max_features': 1, 'max_leaf_nodes': 81, 'min_impurity_decrease': 100, 'bootstrap': False}. Best is trial 0 with value: 0.5.\n",
      "[I 2024-03-29 21:40:00,760] Trial 23 finished with value: 0.5 and parameters: {'n_estimators': 274, 'criterion': 'gini', 'max_depth': 9, 'min_samples_split': 61, 'min_samples_leaf': 2, 'min_weight_fraction_leaf': 0.4794934476395207, 'max_features': 16, 'max_leaf_nodes': 56, 'min_impurity_decrease': 86, 'bootstrap': False}. Best is trial 0 with value: 0.5.\n",
      "[I 2024-03-29 21:40:05,616] Trial 24 finished with value: 0.5 and parameters: {'n_estimators': 357, 'criterion': 'gini', 'max_depth': 37, 'min_samples_split': 88, 'min_samples_leaf': 16, 'min_weight_fraction_leaf': 0.22963655843414393, 'max_features': 9, 'max_leaf_nodes': 45, 'min_impurity_decrease': 18, 'bootstrap': False}. Best is trial 0 with value: 0.5.\n",
      "[I 2024-03-29 21:40:11,032] Trial 25 finished with value: 0.5 and parameters: {'n_estimators': 402, 'criterion': 'gini', 'max_depth': 113, 'min_samples_split': 48, 'min_samples_leaf': 32, 'min_weight_fraction_leaf': 0.42739708562857914, 'max_features': 25, 'max_leaf_nodes': 23, 'min_impurity_decrease': 40, 'bootstrap': False}. Best is trial 0 with value: 0.5.\n",
      "[I 2024-03-29 21:40:14,491] Trial 26 finished with value: 0.5 and parameters: {'n_estimators': 214, 'criterion': 'entropy', 'max_depth': 183, 'min_samples_split': 33, 'min_samples_leaf': 6, 'min_weight_fraction_leaf': 0.29708469867434883, 'max_features': 35, 'max_leaf_nodes': 85, 'min_impurity_decrease': 70, 'bootstrap': True}. Best is trial 0 with value: 0.5.\n",
      "[I 2024-03-29 21:40:19,066] Trial 27 finished with value: 0.5 and parameters: {'n_estimators': 337, 'criterion': 'gini', 'max_depth': 93, 'min_samples_split': 81, 'min_samples_leaf': 15, 'min_weight_fraction_leaf': 0.3865710164503406, 'max_features': 19, 'max_leaf_nodes': 61, 'min_impurity_decrease': 58, 'bootstrap': False}. Best is trial 0 with value: 0.5.\n",
      "[I 2024-03-29 21:40:24,948] Trial 28 finished with value: 0.5 and parameters: {'n_estimators': 444, 'criterion': 'gini', 'max_depth': 70, 'min_samples_split': 58, 'min_samples_leaf': 63, 'min_weight_fraction_leaf': 0.4579279438419177, 'max_features': 8, 'max_leaf_nodes': 50, 'min_impurity_decrease': 18, 'bootstrap': False}. Best is trial 0 with value: 0.5.\n",
      "[I 2024-03-29 21:40:29,196] Trial 29 finished with value: 0.5 and parameters: {'n_estimators': 301, 'criterion': 'entropy', 'max_depth': 134, 'min_samples_split': 41, 'min_samples_leaf': 24, 'min_weight_fraction_leaf': 0.35270970769707266, 'max_features': 60, 'max_leaf_nodes': 11, 'min_impurity_decrease': 43, 'bootstrap': False}. Best is trial 0 with value: 0.5.\n",
      "[I 2024-03-29 21:40:32,066] Trial 30 finished with value: 0.5 and parameters: {'n_estimators': 210, 'criterion': 'gini', 'max_depth': 146, 'min_samples_split': 67, 'min_samples_leaf': 21, 'min_weight_fraction_leaf': 0.48698307003111296, 'max_features': 44, 'max_leaf_nodes': 38, 'min_impurity_decrease': 85, 'bootstrap': False}. Best is trial 0 with value: 0.5.\n",
      "[I 2024-03-29 21:40:34,263] Trial 31 finished with value: 0.5 and parameters: {'n_estimators': 157, 'criterion': 'entropy', 'max_depth': 136, 'min_samples_split': 38, 'min_samples_leaf': 46, 'min_weight_fraction_leaf': 0.49838795350131687, 'max_features': 67, 'max_leaf_nodes': 12, 'min_impurity_decrease': 48, 'bootstrap': False}. Best is trial 0 with value: 0.5.\n",
      "[I 2024-03-29 21:40:35,926] Trial 32 finished with value: 0.5 and parameters: {'n_estimators': 116, 'criterion': 'entropy', 'max_depth': 24, 'min_samples_split': 4, 'min_samples_leaf': 35, 'min_weight_fraction_leaf': 0.45273688805966894, 'max_features': 47, 'max_leaf_nodes': 100, 'min_impurity_decrease': 55, 'bootstrap': False}. Best is trial 0 with value: 0.5.\n",
      "[I 2024-03-29 21:40:38,560] Trial 33 finished with value: 0.5 and parameters: {'n_estimators': 185, 'criterion': 'entropy', 'max_depth': 101, 'min_samples_split': 46, 'min_samples_leaf': 10, 'min_weight_fraction_leaf': 0.3236435534250556, 'max_features': 55, 'max_leaf_nodes': 2, 'min_impurity_decrease': 36, 'bootstrap': False}. Best is trial 0 with value: 0.5.\n",
      "[I 2024-03-29 21:40:40,751] Trial 34 finished with value: 0.5 and parameters: {'n_estimators': 135, 'criterion': 'entropy', 'max_depth': 121, 'min_samples_split': 27, 'min_samples_leaf': 27, 'min_weight_fraction_leaf': 0.41553059275094406, 'max_features': 73, 'max_leaf_nodes': 24, 'min_impurity_decrease': 46, 'bootstrap': True}. Best is trial 0 with value: 0.5.\n",
      "[I 2024-03-29 21:40:44,435] Trial 35 finished with value: 0.5 and parameters: {'n_estimators': 258, 'criterion': 'entropy', 'max_depth': 73, 'min_samples_split': 32, 'min_samples_leaf': 17, 'min_weight_fraction_leaf': 0.20401695094515074, 'max_features': 52, 'max_leaf_nodes': 83, 'min_impurity_decrease': 23, 'bootstrap': False}. Best is trial 0 with value: 0.5.\n",
      "[I 2024-03-29 21:40:47,248] Trial 36 finished with value: 0.5 and parameters: {'n_estimators': 176, 'criterion': 'entropy', 'max_depth': 174, 'min_samples_split': 23, 'min_samples_leaf': 11, 'min_weight_fraction_leaf': 0.3681741112196204, 'max_features': 39, 'max_leaf_nodes': 89, 'min_impurity_decrease': 53, 'bootstrap': True}. Best is trial 0 with value: 0.5.\n",
      "[I 2024-03-29 21:40:52,098] Trial 37 finished with value: 0.5 and parameters: {'n_estimators': 355, 'criterion': 'gini', 'max_depth': 57, 'min_samples_split': 9, 'min_samples_leaf': 40, 'min_weight_fraction_leaf': 0.075570337927005, 'max_features': 90, 'max_leaf_nodes': 15, 'min_impurity_decrease': 65, 'bootstrap': False}. Best is trial 0 with value: 0.5.\n",
      "[I 2024-03-29 21:40:57,413] Trial 38 finished with value: 0.5 and parameters: {'n_estimators': 387, 'criterion': 'entropy', 'max_depth': 124, 'min_samples_split': 53, 'min_samples_leaf': 49, 'min_weight_fraction_leaf': 0.4712075844464181, 'max_features': 31, 'max_leaf_nodes': 8, 'min_impurity_decrease': 11, 'bootstrap': False}. Best is trial 0 with value: 0.5.\n",
      "[I 2024-03-29 21:41:01,459] Trial 39 finished with value: 0.5 and parameters: {'n_estimators': 269, 'criterion': 'gini', 'max_depth': 163, 'min_samples_split': 37, 'min_samples_leaf': 62, 'min_weight_fraction_leaf': 0.1327817082875478, 'max_features': 55, 'max_leaf_nodes': 77, 'min_impurity_decrease': 72, 'bootstrap': True}. Best is trial 0 with value: 0.5.\n",
      "[I 2024-03-29 21:41:04,226] Trial 40 finished with value: 0.5 and parameters: {'n_estimators': 242, 'criterion': 'gini', 'max_depth': 191, 'min_samples_split': 73, 'min_samples_leaf': 89, 'min_weight_fraction_leaf': 0.26770979480920615, 'max_features': 5, 'max_leaf_nodes': 51, 'min_impurity_decrease': 60, 'bootstrap': False}. Best is trial 0 with value: 0.5.\n",
      "[I 2024-03-29 21:41:09,509] Trial 41 finished with value: 0.7246298423264335 and parameters: {'n_estimators': 289, 'criterion': 'entropy', 'max_depth': 20, 'min_samples_split': 9, 'min_samples_leaf': 74, 'min_weight_fraction_leaf': 0.15496021526868012, 'max_features': 39, 'max_leaf_nodes': 92, 'min_impurity_decrease': 0, 'bootstrap': False}. Best is trial 41 with value: 0.7246298423264335.\n",
      "[I 2024-03-29 21:41:13,924] Trial 42 finished with value: 0.5 and parameters: {'n_estimators': 314, 'criterion': 'entropy', 'max_depth': 30, 'min_samples_split': 12, 'min_samples_leaf': 77, 'min_weight_fraction_leaf': 0.16305974771570309, 'max_features': 41, 'max_leaf_nodes': 93, 'min_impurity_decrease': 3, 'bootstrap': False}. Best is trial 41 with value: 0.7246298423264335.\n",
      "[I 2024-03-29 21:41:18,674] Trial 43 finished with value: 0.5 and parameters: {'n_estimators': 346, 'criterion': 'entropy', 'max_depth': 142, 'min_samples_split': 15, 'min_samples_leaf': 78, 'min_weight_fraction_leaf': 0.2087855557608712, 'max_features': 28, 'max_leaf_nodes': 90, 'min_impurity_decrease': 11, 'bootstrap': False}. Best is trial 41 with value: 0.7246298423264335.\n",
      "[I 2024-03-29 21:41:23,509] Trial 44 finished with value: 0.5 and parameters: {'n_estimators': 292, 'criterion': 'entropy', 'max_depth': 158, 'min_samples_split': 28, 'min_samples_leaf': 66, 'min_weight_fraction_leaf': 0.10499920816109129, 'max_features': 38, 'max_leaf_nodes': 94, 'min_impurity_decrease': 25, 'bootstrap': False}. Best is trial 41 with value: 0.7246298423264335.\n",
      "[I 2024-03-29 21:41:29,757] Trial 45 finished with value: 0.5 and parameters: {'n_estimators': 376, 'criterion': 'entropy', 'max_depth': 16, 'min_samples_split': 2, 'min_samples_leaf': 83, 'min_weight_fraction_leaf': 0.15608305479065232, 'max_features': 48, 'max_leaf_nodes': 72, 'min_impurity_decrease': 50, 'bootstrap': False}. Best is trial 41 with value: 0.7246298423264335.\n",
      "[I 2024-03-29 21:41:34,169] Trial 46 finished with value: 0.5 and parameters: {'n_estimators': 321, 'criterion': 'gini', 'max_depth': 2, 'min_samples_split': 43, 'min_samples_leaf': 73, 'min_weight_fraction_leaf': 0.09886821795626664, 'max_features': 26, 'max_leaf_nodes': 30, 'min_impurity_decrease': 64, 'bootstrap': False}. Best is trial 41 with value: 0.7246298423264335.\n",
      "[I 2024-03-29 21:41:38,280] Trial 47 finished with value: 0.5 and parameters: {'n_estimators': 279, 'criterion': 'entropy', 'max_depth': 109, 'min_samples_split': 57, 'min_samples_leaf': 94, 'min_weight_fraction_leaf': 0.1460993485847623, 'max_features': 21, 'max_leaf_nodes': 79, 'min_impurity_decrease': 36, 'bootstrap': False}. Best is trial 41 with value: 0.7246298423264335.\n",
      "[I 2024-03-29 21:41:41,477] Trial 48 finished with value: 0.5 and parameters: {'n_estimators': 225, 'criterion': 'gini', 'max_depth': 55, 'min_samples_split': 100, 'min_samples_leaf': 55, 'min_weight_fraction_leaf': 0.051766802453123664, 'max_features': 14, 'max_leaf_nodes': 87, 'min_impurity_decrease': 100, 'bootstrap': False}. Best is trial 41 with value: 0.7246298423264335.\n",
      "[I 2024-03-29 21:41:44,393] Trial 49 finished with value: 0.5 and parameters: {'n_estimators': 183, 'criterion': 'gini', 'max_depth': 171, 'min_samples_split': 87, 'min_samples_leaf': 1, 'min_weight_fraction_leaf': 0.04773121037910516, 'max_features': 44, 'max_leaf_nodes': 67, 'min_impurity_decrease': 32, 'bootstrap': True}. Best is trial 41 with value: 0.7246298423264335.\n",
      "[I 2024-03-29 21:41:48,531] Trial 50 finished with value: 0.5 and parameters: {'n_estimators': 306, 'criterion': 'gini', 'max_depth': 151, 'min_samples_split': 63, 'min_samples_leaf': 21, 'min_weight_fraction_leaf': 0.1863410213554901, 'max_features': 35, 'max_leaf_nodes': 97, 'min_impurity_decrease': 1, 'bootstrap': False}. Best is trial 41 with value: 0.7246298423264335.\n",
      "[I 2024-03-29 21:41:52,470] Trial 51 finished with value: 0.5 and parameters: {'n_estimators': 260, 'criterion': 'entropy', 'max_depth': 17, 'min_samples_split': 17, 'min_samples_leaf': 7, 'min_weight_fraction_leaf': 0.22072148602235803, 'max_features': 58, 'max_leaf_nodes': 97, 'min_impurity_decrease': 7, 'bootstrap': False}. Best is trial 41 with value: 0.7246298423264335.\n",
      "[I 2024-03-29 21:41:55,260] Trial 52 finished with value: 0.5 and parameters: {'n_estimators': 197, 'criterion': 'entropy', 'max_depth': 36, 'min_samples_split': 8, 'min_samples_leaf': 29, 'min_weight_fraction_leaf': 0.26462070576203, 'max_features': 50, 'max_leaf_nodes': 75, 'min_impurity_decrease': 8, 'bootstrap': False}. Best is trial 41 with value: 0.7246298423264335.\n",
      "[I 2024-03-29 21:41:59,075] Trial 53 finished with value: 0.5 and parameters: {'n_estimators': 251, 'criterion': 'entropy', 'max_depth': 46, 'min_samples_split': 22, 'min_samples_leaf': 57, 'min_weight_fraction_leaf': 0.1849929900352051, 'max_features': 69, 'max_leaf_nodes': 46, 'min_impurity_decrease': 1, 'bootstrap': False}. Best is trial 41 with value: 0.7246298423264335.\n",
      "[I 2024-03-29 21:42:03,911] Trial 54 finished with value: 0.5 and parameters: {'n_estimators': 336, 'criterion': 'entropy', 'max_depth': 1, 'min_samples_split': 50, 'min_samples_leaf': 35, 'min_weight_fraction_leaf': 0.13565119273287082, 'max_features': 32, 'max_leaf_nodes': 36, 'min_impurity_decrease': 15, 'bootstrap': False}. Best is trial 41 with value: 0.7246298423264335.\n",
      "[I 2024-03-29 21:42:07,730] Trial 55 finished with value: 0.5 and parameters: {'n_estimators': 284, 'criterion': 'gini', 'max_depth': 94, 'min_samples_split': 10, 'min_samples_leaf': 70, 'min_weight_fraction_leaf': 0.23985071497357935, 'max_features': 13, 'max_leaf_nodes': 85, 'min_impurity_decrease': 82, 'bootstrap': False}. Best is trial 41 with value: 0.7246298423264335.\n",
      "[I 2024-03-29 21:42:13,308] Trial 56 finished with value: 0.5 and parameters: {'n_estimators': 393, 'criterion': 'entropy', 'max_depth': 79, 'min_samples_split': 5, 'min_samples_leaf': 20, 'min_weight_fraction_leaf': 0.106991415957114, 'max_features': 22, 'max_leaf_nodes': 25, 'min_impurity_decrease': 90, 'bootstrap': False}. Best is trial 41 with value: 0.7246298423264335.\n",
      "[I 2024-03-29 21:42:18,979] Trial 57 finished with value: 0.5 and parameters: {'n_estimators': 430, 'criterion': 'gini', 'max_depth': 122, 'min_samples_split': 94, 'min_samples_leaf': 83, 'min_weight_fraction_leaf': 0.4320354109494553, 'max_features': 17, 'max_leaf_nodes': 61, 'min_impurity_decrease': 76, 'bootstrap': False}. Best is trial 41 with value: 0.7246298423264335.\n",
      "[I 2024-03-29 21:42:23,217] Trial 58 finished with value: 0.5 and parameters: {'n_estimators': 367, 'criterion': 'gini', 'max_depth': 200, 'min_samples_split': 32, 'min_samples_leaf': 14, 'min_weight_fraction_leaf': 0.3367792820496469, 'max_features': 5, 'max_leaf_nodes': 55, 'min_impurity_decrease': 25, 'bootstrap': False}. Best is trial 41 with value: 0.7246298423264335.\n",
      "[I 2024-03-29 21:42:26,676] Trial 59 finished with value: 0.5 and parameters: {'n_estimators': 225, 'criterion': 'entropy', 'max_depth': 11, 'min_samples_split': 83, 'min_samples_leaf': 42, 'min_weight_fraction_leaf': 0.3937919461030874, 'max_features': 43, 'max_leaf_nodes': 7, 'min_impurity_decrease': 45, 'bootstrap': True}. Best is trial 41 with value: 0.7246298423264335.\n",
      "[I 2024-03-29 21:42:31,091] Trial 60 finished with value: 0.5 and parameters: {'n_estimators': 327, 'criterion': 'gini', 'max_depth': 129, 'min_samples_split': 75, 'min_samples_leaf': 6, 'min_weight_fraction_leaf': 0.19031022890294808, 'max_features': 39, 'max_leaf_nodes': 94, 'min_impurity_decrease': 52, 'bootstrap': False}. Best is trial 41 with value: 0.7246298423264335.\n",
      "[I 2024-03-29 21:42:33,296] Trial 61 finished with value: 0.5 and parameters: {'n_estimators': 141, 'criterion': 'gini', 'max_depth': 79, 'min_samples_split': 6, 'min_samples_leaf': 61, 'min_weight_fraction_leaf': 0.014093207483118424, 'max_features': 47, 'max_leaf_nodes': 64, 'min_impurity_decrease': 62, 'bootstrap': True}. Best is trial 41 with value: 0.7246298423264335.\n",
      "[I 2024-03-29 21:42:35,862] Trial 62 finished with value: 0.5 and parameters: {'n_estimators': 164, 'criterion': 'gini', 'max_depth': 64, 'min_samples_split': 2, 'min_samples_leaf': 74, 'min_weight_fraction_leaf': 0.056885959435290595, 'max_features': 54, 'max_leaf_nodes': 71, 'min_impurity_decrease': 41, 'bootstrap': True}. Best is trial 41 with value: 0.7246298423264335.\n",
      "[I 2024-03-29 21:42:37,471] Trial 63 finished with value: 0.5 and parameters: {'n_estimators': 100, 'criterion': 'gini', 'max_depth': 91, 'min_samples_split': 68, 'min_samples_leaf': 59, 'min_weight_fraction_leaf': 0.2988666518454465, 'max_features': 51, 'max_leaf_nodes': 81, 'min_impurity_decrease': 72, 'bootstrap': True}. Best is trial 41 with value: 0.7246298423264335.\n",
      "[I 2024-03-29 21:42:39,352] Trial 64 finished with value: 0.5 and parameters: {'n_estimators': 121, 'criterion': 'gini', 'max_depth': 42, 'min_samples_split': 18, 'min_samples_leaf': 48, 'min_weight_fraction_leaf': 0.2522973209343339, 'max_features': 58, 'max_leaf_nodes': 40, 'min_impurity_decrease': 55, 'bootstrap': True}. Best is trial 41 with value: 0.7246298423264335.\n",
      "[I 2024-03-29 21:42:42,065] Trial 65 finished with value: 0.5 and parameters: {'n_estimators': 198, 'criterion': 'gini', 'max_depth': 23, 'min_samples_split': 27, 'min_samples_leaf': 67, 'min_weight_fraction_leaf': 0.16991868665153154, 'max_features': 29, 'max_leaf_nodes': 87, 'min_impurity_decrease': 69, 'bootstrap': False}. Best is trial 41 with value: 0.7246298423264335.\n",
      "[I 2024-03-29 21:42:48,865] Trial 66 finished with value: 0.5 and parameters: {'n_estimators': 477, 'criterion': 'entropy', 'max_depth': 107, 'min_samples_split': 13, 'min_samples_leaf': 80, 'min_weight_fraction_leaf': 0.027779212239756046, 'max_features': 25, 'max_leaf_nodes': 99, 'min_impurity_decrease': 5, 'bootstrap': False}. Best is trial 41 with value: 0.7246298423264335.\n",
      "[I 2024-03-29 21:42:54,264] Trial 67 finished with value: 0.5 and parameters: {'n_estimators': 348, 'criterion': 'gini', 'max_depth': 116, 'min_samples_split': 55, 'min_samples_leaf': 24, 'min_weight_fraction_leaf': 0.4556107779316274, 'max_features': 41, 'max_leaf_nodes': 19, 'min_impurity_decrease': 96, 'bootstrap': True}. Best is trial 41 with value: 0.7246298423264335.\n",
      "[I 2024-03-29 21:42:58,233] Trial 68 finished with value: 0.5 and parameters: {'n_estimators': 297, 'criterion': 'gini', 'max_depth': 99, 'min_samples_split': 45, 'min_samples_leaf': 92, 'min_weight_fraction_leaf': 0.08886594345119117, 'max_features': 36, 'max_leaf_nodes': 33, 'min_impurity_decrease': 58, 'bootstrap': False}. Best is trial 41 with value: 0.7246298423264335.\n",
      "[I 2024-03-29 21:43:00,536] Trial 69 finished with value: 0.5 and parameters: {'n_estimators': 166, 'criterion': 'entropy', 'max_depth': 183, 'min_samples_split': 36, 'min_samples_leaf': 13, 'min_weight_fraction_leaf': 0.2856671511792085, 'max_features': 45, 'max_leaf_nodes': 83, 'min_impurity_decrease': 36, 'bootstrap': False}. Best is trial 41 with value: 0.7246298423264335.\n",
      "[I 2024-03-29 21:43:03,550] Trial 70 finished with value: 0.5 and parameters: {'n_estimators': 231, 'criterion': 'gini', 'max_depth': 82, 'min_samples_split': 7, 'min_samples_leaf': 53, 'min_weight_fraction_leaf': 0.3745604531141615, 'max_features': 7, 'max_leaf_nodes': 78, 'min_impurity_decrease': 20, 'bootstrap': False}. Best is trial 41 with value: 0.7246298423264335.\n",
      "[I 2024-03-29 21:43:06,093] Trial 71 finished with value: 0.5 and parameters: {'n_estimators': 149, 'criterion': 'gini', 'max_depth': 54, 'min_samples_split': 40, 'min_samples_leaf': 18, 'min_weight_fraction_leaf': 0.3269096229933008, 'max_features': 82, 'max_leaf_nodes': 42, 'min_impurity_decrease': 47, 'bootstrap': False}. Best is trial 41 with value: 0.7246298423264335.\n",
      "[I 2024-03-29 21:43:08,263] Trial 72 finished with value: 0.5 and parameters: {'n_estimators': 123, 'criterion': 'gini', 'max_depth': 28, 'min_samples_split': 30, 'min_samples_leaf': 4, 'min_weight_fraction_leaf': 0.4157678121492611, 'max_features': 75, 'max_leaf_nodes': 48, 'min_impurity_decrease': 50, 'bootstrap': False}. Best is trial 41 with value: 0.7246298423264335.\n",
      "[I 2024-03-29 21:43:12,378] Trial 73 finished with value: 0.5 and parameters: {'n_estimators': 271, 'criterion': 'gini', 'max_depth': 71, 'min_samples_split': 36, 'min_samples_leaf': 31, 'min_weight_fraction_leaf': 0.3518106788237615, 'max_features': 86, 'max_leaf_nodes': 55, 'min_impurity_decrease': 42, 'bootstrap': False}. Best is trial 41 with value: 0.7246298423264335.\n",
      "[I 2024-03-29 21:43:14,433] Trial 74 finished with value: 0.5 and parameters: {'n_estimators': 136, 'criterion': 'gini', 'max_depth': 61, 'min_samples_split': 21, 'min_samples_leaf': 24, 'min_weight_fraction_leaf': 0.4950494069860662, 'max_features': 62, 'max_leaf_nodes': 90, 'min_impurity_decrease': 31, 'bootstrap': False}. Best is trial 41 with value: 0.7246298423264335.\n",
      "[I 2024-03-29 21:43:16,611] Trial 75 finished with value: 0.5 and parameters: {'n_estimators': 199, 'criterion': 'entropy', 'max_depth': 6, 'min_samples_split': 49, 'min_samples_leaf': 35, 'min_weight_fraction_leaf': 0.11904087408904597, 'max_features': 1, 'max_leaf_nodes': 93, 'min_impurity_decrease': 54, 'bootstrap': False}. Best is trial 41 with value: 0.7246298423264335.\n",
      "[I 2024-03-29 21:43:22,559] Trial 76 finished with value: 0.5 and parameters: {'n_estimators': 315, 'criterion': 'gini', 'max_depth': 16, 'min_samples_split': 24, 'min_samples_leaf': 87, 'min_weight_fraction_leaf': 0.478602433303396, 'max_features': 67, 'max_leaf_nodes': 74, 'min_impurity_decrease': 38, 'bootstrap': True}. Best is trial 41 with value: 0.7246298423264335.\n",
      "[I 2024-03-29 21:43:25,576] Trial 77 finished with value: 0.5 and parameters: {'n_estimators': 174, 'criterion': 'entropy', 'max_depth': 35, 'min_samples_split': 42, 'min_samples_leaf': 99, 'min_weight_fraction_leaf': 0.2049201480499378, 'max_features': 93, 'max_leaf_nodes': 66, 'min_impurity_decrease': 11, 'bootstrap': False}. Best is trial 41 with value: 0.7246298423264335.\n",
      "[I 2024-03-29 21:43:28,088] Trial 78 finished with value: 0.5 and parameters: {'n_estimators': 152, 'criterion': 'gini', 'max_depth': 138, 'min_samples_split': 15, 'min_samples_leaf': 65, 'min_weight_fraction_leaf': 0.22439986504825551, 'max_features': 11, 'max_leaf_nodes': 58, 'min_impurity_decrease': 61, 'bootstrap': False}. Best is trial 41 with value: 0.7246298423264335.\n",
      "[I 2024-03-29 21:43:31,899] Trial 79 finished with value: 0.5 and parameters: {'n_estimators': 261, 'criterion': 'entropy', 'max_depth': 49, 'min_samples_split': 11, 'min_samples_leaf': 10, 'min_weight_fraction_leaf': 0.15153319610263222, 'max_features': 98, 'max_leaf_nodes': 70, 'min_impurity_decrease': 66, 'bootstrap': False}. Best is trial 41 with value: 0.7246298423264335.\n",
      "[I 2024-03-29 21:43:37,249] Trial 80 finished with value: 0.5 and parameters: {'n_estimators': 369, 'criterion': 'gini', 'max_depth': 84, 'min_samples_split': 62, 'min_samples_leaf': 44, 'min_weight_fraction_leaf': 0.40277091689733424, 'max_features': 75, 'max_leaf_nodes': 15, 'min_impurity_decrease': 44, 'bootstrap': False}. Best is trial 41 with value: 0.7246298423264335.\n",
      "[I 2024-03-29 21:43:43,991] Trial 81 finished with value: 0.5 and parameters: {'n_estimators': 416, 'criterion': 'gini', 'max_depth': 130, 'min_samples_split': 26, 'min_samples_leaf': 74, 'min_weight_fraction_leaf': 0.07713255254334833, 'max_features': 49, 'max_leaf_nodes': 9, 'min_impurity_decrease': 50, 'bootstrap': True}. Best is trial 41 with value: 0.7246298423264335.\n",
      "[I 2024-03-29 21:43:50,752] Trial 82 finished with value: 0.5 and parameters: {'n_estimators': 403, 'criterion': 'gini', 'max_depth': 115, 'min_samples_split': 35, 'min_samples_leaf': 70, 'min_weight_fraction_leaf': 0.06578339789486053, 'max_features': 34, 'max_leaf_nodes': 4, 'min_impurity_decrease': 57, 'bootstrap': True}. Best is trial 41 with value: 0.7246298423264335.\n",
      "[I 2024-03-29 21:43:56,809] Trial 83 finished with value: 0.5 and parameters: {'n_estimators': 363, 'criterion': 'gini', 'max_depth': 150, 'min_samples_split': 30, 'min_samples_leaf': 72, 'min_weight_fraction_leaf': 0.003110299716479775, 'max_features': 38, 'max_leaf_nodes': 2, 'min_impurity_decrease': 48, 'bootstrap': True}. Best is trial 41 with value: 0.7246298423264335.\n",
      "[I 2024-03-29 21:44:03,292] Trial 84 finished with value: 0.5 and parameters: {'n_estimators': 342, 'criterion': 'gini', 'max_depth': 162, 'min_samples_split': 20, 'min_samples_leaf': 78, 'min_weight_fraction_leaf': 0.4667284253457731, 'max_features': 42, 'max_leaf_nodes': 5, 'min_impurity_decrease': 87, 'bootstrap': True}. Best is trial 41 with value: 0.7246298423264335.\n",
      "[I 2024-03-29 21:44:09,763] Trial 85 finished with value: 0.5 and parameters: {'n_estimators': 356, 'criterion': 'entropy', 'max_depth': 192, 'min_samples_split': 33, 'min_samples_leaf': 38, 'min_weight_fraction_leaf': 0.44303584521703987, 'max_features': 19, 'max_leaf_nodes': 52, 'min_impurity_decrease': 28, 'bootstrap': True}. Best is trial 41 with value: 0.7246298423264335.\n",
      "[I 2024-03-29 21:44:15,785] Trial 86 finished with value: 0.5 and parameters: {'n_estimators': 388, 'criterion': 'gini', 'max_depth': 99, 'min_samples_split': 2, 'min_samples_leaf': 81, 'min_weight_fraction_leaf': 0.036314579804359925, 'max_features': 53, 'max_leaf_nodes': 12, 'min_impurity_decrease': 79, 'bootstrap': False}. Best is trial 41 with value: 0.7246298423264335.\n",
      "[I 2024-03-29 21:44:20,124] Trial 87 finished with value: 0.5 and parameters: {'n_estimators': 305, 'criterion': 'gini', 'max_depth': 76, 'min_samples_split': 44, 'min_samples_leaf': 28, 'min_weight_fraction_leaf': 0.11708843034344704, 'max_features': 46, 'max_leaf_nodes': 96, 'min_impurity_decrease': 14, 'bootstrap': False}. Best is trial 41 with value: 0.7246298423264335.\n",
      "[I 2024-03-29 21:44:25,925] Trial 88 finished with value: 0.7157617176216602 and parameters: {'n_estimators': 246, 'criterion': 'entropy', 'max_depth': 140, 'min_samples_split': 39, 'min_samples_leaf': 18, 'min_weight_fraction_leaf': 0.13823014668113115, 'max_features': 31, 'max_leaf_nodes': 87, 'min_impurity_decrease': 0, 'bootstrap': False}. Best is trial 41 with value: 0.7246298423264335.\n",
      "[I 2024-03-29 21:44:28,947] Trial 89 finished with value: 0.5 and parameters: {'n_estimators': 208, 'criterion': 'entropy', 'max_depth': 175, 'min_samples_split': 47, 'min_samples_leaf': 18, 'min_weight_fraction_leaf': 0.1395670354818263, 'max_features': 30, 'max_leaf_nodes': 87, 'min_impurity_decrease': 4, 'bootstrap': False}. Best is trial 41 with value: 0.7246298423264335.\n",
      "[I 2024-03-29 21:44:33,072] Trial 90 finished with value: 0.5 and parameters: {'n_estimators': 285, 'criterion': 'entropy', 'max_depth': 143, 'min_samples_split': 52, 'min_samples_leaf': 21, 'min_weight_fraction_leaf': 0.17550633356891243, 'max_features': 26, 'max_leaf_nodes': 92, 'min_impurity_decrease': 9, 'bootstrap': False}. Best is trial 41 with value: 0.7246298423264335.\n",
      "[I 2024-03-29 21:44:40,598] Trial 91 finished with value: 0.7186663109380894 and parameters: {'n_estimators': 250, 'criterion': 'entropy', 'max_depth': 157, 'min_samples_split': 29, 'min_samples_leaf': 13, 'min_weight_fraction_leaf': 0.09768231956328172, 'max_features': 23, 'max_leaf_nodes': 27, 'min_impurity_decrease': 0, 'bootstrap': False}. Best is trial 41 with value: 0.7246298423264335.\n",
      "[I 2024-03-29 21:44:47,390] Trial 92 finished with value: 0.721811723459444 and parameters: {'n_estimators': 246, 'criterion': 'entropy', 'max_depth': 156, 'min_samples_split': 40, 'min_samples_leaf': 8, 'min_weight_fraction_leaf': 0.09586201638796828, 'max_features': 24, 'max_leaf_nodes': 22, 'min_impurity_decrease': 0, 'bootstrap': False}. Best is trial 41 with value: 0.7246298423264335.\n",
      "[I 2024-03-29 21:44:51,603] Trial 93 finished with value: 0.5 and parameters: {'n_estimators': 246, 'criterion': 'entropy', 'max_depth': 169, 'min_samples_split': 39, 'min_samples_leaf': 12, 'min_weight_fraction_leaf': 0.1281859477183509, 'max_features': 28, 'max_leaf_nodes': 27, 'min_impurity_decrease': 1, 'bootstrap': False}. Best is trial 41 with value: 0.7246298423264335.\n",
      "[I 2024-03-29 21:44:55,833] Trial 94 finished with value: 0.5 and parameters: {'n_estimators': 263, 'criterion': 'entropy', 'max_depth': 154, 'min_samples_split': 42, 'min_samples_leaf': 8, 'min_weight_fraction_leaf': 0.08847456732280606, 'max_features': 23, 'max_leaf_nodes': 32, 'min_impurity_decrease': 3, 'bootstrap': False}. Best is trial 41 with value: 0.7246298423264335.\n",
      "[I 2024-03-29 21:44:59,619] Trial 95 finished with value: 0.5 and parameters: {'n_estimators': 231, 'criterion': 'entropy', 'max_depth': 158, 'min_samples_split': 4, 'min_samples_leaf': 5, 'min_weight_fraction_leaf': 0.15851698975531334, 'max_features': 15, 'max_leaf_nodes': 88, 'min_impurity_decrease': 6, 'bootstrap': False}. Best is trial 41 with value: 0.7246298423264335.\n",
      "[I 2024-03-29 21:45:05,541] Trial 96 finished with value: 0.7108635908949019 and parameters: {'n_estimators': 254, 'criterion': 'entropy', 'max_depth': 137, 'min_samples_split': 9, 'min_samples_leaf': 15, 'min_weight_fraction_leaf': 0.10529838326833872, 'max_features': 19, 'max_leaf_nodes': 22, 'min_impurity_decrease': 0, 'bootstrap': False}. Best is trial 41 with value: 0.7246298423264335.\n",
      "[I 2024-03-29 21:45:11,024] Trial 97 finished with value: 0.7382437197096693 and parameters: {'n_estimators': 236, 'criterion': 'entropy', 'max_depth': 134, 'min_samples_split': 30, 'min_samples_leaf': 14, 'min_weight_fraction_leaf': 0.09173364836490439, 'max_features': 20, 'max_leaf_nodes': 20, 'min_impurity_decrease': 0, 'bootstrap': False}. Best is trial 97 with value: 0.7382437197096693.\n",
      "[I 2024-03-29 21:45:16,412] Trial 98 finished with value: 0.7411309665549599 and parameters: {'n_estimators': 239, 'criterion': 'entropy', 'max_depth': 137, 'min_samples_split': 25, 'min_samples_leaf': 16, 'min_weight_fraction_leaf': 0.11266871831373056, 'max_features': 21, 'max_leaf_nodes': 21, 'min_impurity_decrease': 0, 'bootstrap': False}. Best is trial 98 with value: 0.7411309665549599.\n",
      "[I 2024-03-29 21:45:23,061] Trial 99 finished with value: 0.7367362242864431 and parameters: {'n_estimators': 253, 'criterion': 'entropy', 'max_depth': 133, 'min_samples_split': 24, 'min_samples_leaf': 9, 'min_weight_fraction_leaf': 0.08706548172300468, 'max_features': 20, 'max_leaf_nodes': 21, 'min_impurity_decrease': 0, 'bootstrap': False}. Best is trial 98 with value: 0.7411309665549599.\n"
     ]
    },
    {
     "data": {
      "text/plain": [
       "{'n_estimators': 239,\n",
       " 'criterion': 'entropy',\n",
       " 'max_depth': 137,\n",
       " 'min_samples_split': 25,\n",
       " 'min_samples_leaf': 16,\n",
       " 'min_weight_fraction_leaf': 0.11266871831373056,\n",
       " 'max_features': 21,\n",
       " 'max_leaf_nodes': 21,\n",
       " 'min_impurity_decrease': 0,\n",
       " 'bootstrap': False}"
      ]
     },
     "execution_count": 58,
     "metadata": {},
     "output_type": "execute_result"
    }
   ],
   "source": [
    "import optuna\n",
    "import sklearn\n",
    "\n",
    "def objective(trial):\n",
    "    param_random_search = {\n",
    "        'n_estimators' : trial.suggest_int('n_estimators', 100, 500), #10 ~ 1000 사이의 양의 정수\n",
    "        'criterion' : trial.suggest_categorical('criterion', ['gini', 'entropy']),\n",
    "        'max_depth' : trial.suggest_int('max_depth', 1, 200),\n",
    "        'min_samples_split': trial.suggest_int('min_samples_split', 2, 100), # 2 이상의 정수 또는 0과 1 사이의 실수\n",
    "        'min_samples_leaf': trial.suggest_int('min_samples_leaf', 1, 100), # 1 이상의 정수 또는 0과 0.5 사이의 실수\n",
    "        'min_weight_fraction_leaf': trial.suggest_float('min_weight_fraction_leaf', 0, 0.5),  # 0.0에서 0.5 사이의 실수\n",
    "        'max_features': trial.suggest_int('max_features', 1, 100), # 'auto', 'sqrt', 'log2', None 또는 양의 정수/실수\n",
    "        'max_leaf_nodes' : trial.suggest_int('max_leaf_nodes', 2, 100),\n",
    "        'min_impurity_decrease' : trial.suggest_int('min_impurity_decrease', 0, 100),\n",
    "        'bootstrap' : trial.suggest_categorical('bootstrap', [True, False])\n",
    "        }\n",
    "    rf = RandomForestClassifier(**param_random_search)\n",
    "    rf.fit(X_train, y_train)\n",
    "    \n",
    "    score = cross_val_score(rf, X_train, y_train, cv=10, scoring=\"roc_auc_ovr\")\n",
    "    AUC_mean = score.mean()\n",
    "\n",
    "    return AUC_mean\n",
    "\n",
    "\n",
    "study = optuna.create_study(direction='maximize')\n",
    "study.optimize(objective, n_trials=100)\n",
    "best_params = study.best_trial.params\n",
    "best_params"
   ]
  },
  {
   "cell_type": "code",
   "execution_count": 59,
   "metadata": {},
   "outputs": [
    {
     "data": {
      "text/plain": [
       "{'n_estimators': 239,\n",
       " 'criterion': 'entropy',\n",
       " 'max_depth': 137,\n",
       " 'min_samples_split': 25,\n",
       " 'min_samples_leaf': 16,\n",
       " 'min_weight_fraction_leaf': 0.11266871831373056,\n",
       " 'max_features': 21,\n",
       " 'max_leaf_nodes': 21,\n",
       " 'min_impurity_decrease': 0,\n",
       " 'bootstrap': False}"
      ]
     },
     "execution_count": 59,
     "metadata": {},
     "output_type": "execute_result"
    }
   ],
   "source": [
    "best_params = study.best_trial.params\n",
    "best_params"
   ]
  },
  {
   "cell_type": "markdown",
   "metadata": {},
   "source": [
    "### 최적 파라미터 저장"
   ]
  },
  {
   "cell_type": "code",
   "execution_count": 36,
   "metadata": {},
   "outputs": [
    {
     "data": {
      "text/html": [
       "<div>\n",
       "<style scoped>\n",
       "    .dataframe tbody tr th:only-of-type {\n",
       "        vertical-align: middle;\n",
       "    }\n",
       "\n",
       "    .dataframe tbody tr th {\n",
       "        vertical-align: top;\n",
       "    }\n",
       "\n",
       "    .dataframe thead th {\n",
       "        text-align: right;\n",
       "    }\n",
       "</style>\n",
       "<table border=\"1\" class=\"dataframe\">\n",
       "  <thead>\n",
       "    <tr style=\"text-align: right;\">\n",
       "      <th></th>\n",
       "      <th>n_estimators</th>\n",
       "      <th>criterion</th>\n",
       "      <th>max_depth</th>\n",
       "      <th>min_samples_split</th>\n",
       "      <th>min_samples_leaf</th>\n",
       "      <th>min_weight_fraction_leaf</th>\n",
       "      <th>max_features</th>\n",
       "      <th>max_leaf_nodes</th>\n",
       "      <th>min_impurity_decrease</th>\n",
       "      <th>bootstrap</th>\n",
       "    </tr>\n",
       "  </thead>\n",
       "  <tbody>\n",
       "    <tr>\n",
       "      <th>0</th>\n",
       "      <td>229</td>\n",
       "      <td>entropy</td>\n",
       "      <td>34</td>\n",
       "      <td>8</td>\n",
       "      <td>15</td>\n",
       "      <td>0.027581</td>\n",
       "      <td>auto</td>\n",
       "      <td>70</td>\n",
       "      <td>0</td>\n",
       "      <td>False</td>\n",
       "    </tr>\n",
       "  </tbody>\n",
       "</table>\n",
       "</div>"
      ],
      "text/plain": [
       "   n_estimators criterion  max_depth  min_samples_split  min_samples_leaf  \\\n",
       "0           229   entropy         34                  8                15   \n",
       "\n",
       "   min_weight_fraction_leaf max_features  max_leaf_nodes  \\\n",
       "0                  0.027581         auto              70   \n",
       "\n",
       "   min_impurity_decrease  bootstrap  \n",
       "0                      0      False  "
      ]
     },
     "metadata": {},
     "output_type": "display_data"
    },
    {
     "data": {
      "text/html": [
       "<div>\n",
       "<style scoped>\n",
       "    .dataframe tbody tr th:only-of-type {\n",
       "        vertical-align: middle;\n",
       "    }\n",
       "\n",
       "    .dataframe tbody tr th {\n",
       "        vertical-align: top;\n",
       "    }\n",
       "\n",
       "    .dataframe thead th {\n",
       "        text-align: right;\n",
       "    }\n",
       "</style>\n",
       "<table border=\"1\" class=\"dataframe\">\n",
       "  <thead>\n",
       "    <tr style=\"text-align: right;\">\n",
       "      <th></th>\n",
       "      <th>n_estimators</th>\n",
       "      <th>criterion</th>\n",
       "      <th>max_depth</th>\n",
       "      <th>min_samples_split</th>\n",
       "      <th>min_samples_leaf</th>\n",
       "      <th>min_weight_fraction_leaf</th>\n",
       "      <th>max_features</th>\n",
       "      <th>max_leaf_nodes</th>\n",
       "      <th>min_impurity_decrease</th>\n",
       "      <th>bootstrap</th>\n",
       "    </tr>\n",
       "  </thead>\n",
       "  <tbody>\n",
       "    <tr>\n",
       "      <th>0</th>\n",
       "      <td>237</td>\n",
       "      <td>gini</td>\n",
       "      <td>108</td>\n",
       "      <td>4</td>\n",
       "      <td>19</td>\n",
       "      <td>0.009877</td>\n",
       "      <td>0.4</td>\n",
       "      <td>47</td>\n",
       "      <td>0</td>\n",
       "      <td>False</td>\n",
       "    </tr>\n",
       "  </tbody>\n",
       "</table>\n",
       "</div>"
      ],
      "text/plain": [
       "   n_estimators criterion  max_depth  min_samples_split  min_samples_leaf  \\\n",
       "0           237      gini        108                  4                19   \n",
       "\n",
       "   min_weight_fraction_leaf  max_features  max_leaf_nodes  \\\n",
       "0                  0.009877           0.4              47   \n",
       "\n",
       "   min_impurity_decrease  bootstrap  \n",
       "0                      0      False  "
      ]
     },
     "metadata": {},
     "output_type": "display_data"
    }
   ],
   "source": [
    "submit_first = pd.read_csv('./data/submit7.csv')\n",
    "submit_second = pd.read_csv('./data/submit12.csv')\n",
    "display(submit_first,submit_second)"
   ]
  },
  {
   "cell_type": "code",
   "execution_count": 63,
   "metadata": {},
   "outputs": [],
   "source": [
    "submit17 = submit_first.copy()"
   ]
  },
  {
   "cell_type": "code",
   "execution_count": 60,
   "metadata": {},
   "outputs": [
    {
     "data": {
      "text/html": [
       "<div>\n",
       "<style scoped>\n",
       "    .dataframe tbody tr th:only-of-type {\n",
       "        vertical-align: middle;\n",
       "    }\n",
       "\n",
       "    .dataframe tbody tr th {\n",
       "        vertical-align: top;\n",
       "    }\n",
       "\n",
       "    .dataframe thead th {\n",
       "        text-align: right;\n",
       "    }\n",
       "</style>\n",
       "<table border=\"1\" class=\"dataframe\">\n",
       "  <thead>\n",
       "    <tr style=\"text-align: right;\">\n",
       "      <th></th>\n",
       "      <th>n_estimators</th>\n",
       "      <th>criterion</th>\n",
       "      <th>max_depth</th>\n",
       "      <th>min_samples_split</th>\n",
       "      <th>min_samples_leaf</th>\n",
       "      <th>min_weight_fraction_leaf</th>\n",
       "      <th>max_features</th>\n",
       "      <th>max_leaf_nodes</th>\n",
       "      <th>min_impurity_decrease</th>\n",
       "      <th>bootstrap</th>\n",
       "    </tr>\n",
       "  </thead>\n",
       "  <tbody>\n",
       "    <tr>\n",
       "      <th>0</th>\n",
       "      <td>239</td>\n",
       "      <td>entropy</td>\n",
       "      <td>137</td>\n",
       "      <td>25</td>\n",
       "      <td>16</td>\n",
       "      <td>0.112669</td>\n",
       "      <td>21</td>\n",
       "      <td>21</td>\n",
       "      <td>0</td>\n",
       "      <td>False</td>\n",
       "    </tr>\n",
       "  </tbody>\n",
       "</table>\n",
       "</div>"
      ],
      "text/plain": [
       "   n_estimators criterion  max_depth  min_samples_split  min_samples_leaf  \\\n",
       "0           239   entropy        137                 25                16   \n",
       "\n",
       "   min_weight_fraction_leaf  max_features  max_leaf_nodes  \\\n",
       "0                  0.112669            21              21   \n",
       "\n",
       "   min_impurity_decrease  bootstrap  \n",
       "0                      0      False  "
      ]
     },
     "execution_count": 60,
     "metadata": {},
     "output_type": "execute_result"
    }
   ],
   "source": [
    "submit = pd.read_csv('./data/sample_submission.csv')\n",
    "\n",
    "# 찾은 최적의 파라미터들을 제출 양식에 맞게 제출\n",
    "for param, value in best_params.items():\n",
    "    if param in submit.columns:\n",
    "        submit[param] = value\n",
    "submit"
   ]
  },
  {
   "cell_type": "code",
   "execution_count": 64,
   "metadata": {},
   "outputs": [
    {
     "ename": "",
     "evalue": "",
     "output_type": "error",
     "traceback": [
      "\u001b[1;31m현재 셀 또는 이전 셀에서 코드를 실행하는 동안 Kernel이 충돌했습니다. \n",
      "\u001b[1;31m셀의 코드를 검토하여 가능한 오류 원인을 식별하세요. \n",
      "\u001b[1;31m자세한 내용을 보려면 <a href='https://aka.ms/vscodeJupyterKernelCrash'>여기</a>를 클릭하세요. \n",
      "\u001b[1;31m자세한 내용은 Jupyter <a href='command:jupyter.viewOutput'>로그</a>를 참조하세요."
     ]
    }
   ],
   "source": [
    "submit17.to_csv('./data/submit17.csv', index=False)"
   ]
  }
 ],
 "metadata": {
  "kernelspec": {
   "display_name": "Python 3",
   "language": "python",
   "name": "python3"
  },
  "language_info": {
   "codemirror_mode": {
    "name": "ipython",
    "version": 3
   },
   "file_extension": ".py",
   "mimetype": "text/x-python",
   "name": "python",
   "nbconvert_exporter": "python",
   "pygments_lexer": "ipython3",
   "version": "3.10.11"
  }
 },
 "nbformat": 4,
 "nbformat_minor": 2
}
